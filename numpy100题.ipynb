{
 "cells": [
  {
   "cell_type": "markdown",
   "metadata": {},
   "source": [
    "# numpy的练习"
   ]
  },
  {
   "cell_type": "markdown",
   "metadata": {},
   "source": [
    "### 1.导入numpy"
   ]
  },
  {
   "cell_type": "code",
   "execution_count": 1,
   "metadata": {},
   "outputs": [],
   "source": [
    "import numpy as np"
   ]
  },
  {
   "cell_type": "markdown",
   "metadata": {},
   "source": [
    "### 2.打印numpy的版本和配置说明"
   ]
  },
  {
   "cell_type": "code",
   "execution_count": 2,
   "metadata": {},
   "outputs": [
    {
     "name": "stdout",
     "output_type": "stream",
     "text": [
      "numpy的版本1.16.2\n",
      "mkl_info:\n",
      "    libraries = ['mkl_rt']\n",
      "    library_dirs = ['C:/Users/Lenovo/Anaconda3\\\\Library\\\\lib']\n",
      "    define_macros = [('SCIPY_MKL_H', None), ('HAVE_CBLAS', None)]\n",
      "    include_dirs = ['C:\\\\Program Files (x86)\\\\IntelSWTools\\\\compilers_and_libraries_2019.0.117\\\\windows\\\\mkl', 'C:\\\\Program Files (x86)\\\\IntelSWTools\\\\compilers_and_libraries_2019.0.117\\\\windows\\\\mkl\\\\include', 'C:\\\\Program Files (x86)\\\\IntelSWTools\\\\compilers_and_libraries_2019.0.117\\\\windows\\\\mkl\\\\lib', 'C:/Users/Lenovo/Anaconda3\\\\Library\\\\include']\n",
      "blas_mkl_info:\n",
      "    libraries = ['mkl_rt']\n",
      "    library_dirs = ['C:/Users/Lenovo/Anaconda3\\\\Library\\\\lib']\n",
      "    define_macros = [('SCIPY_MKL_H', None), ('HAVE_CBLAS', None)]\n",
      "    include_dirs = ['C:\\\\Program Files (x86)\\\\IntelSWTools\\\\compilers_and_libraries_2019.0.117\\\\windows\\\\mkl', 'C:\\\\Program Files (x86)\\\\IntelSWTools\\\\compilers_and_libraries_2019.0.117\\\\windows\\\\mkl\\\\include', 'C:\\\\Program Files (x86)\\\\IntelSWTools\\\\compilers_and_libraries_2019.0.117\\\\windows\\\\mkl\\\\lib', 'C:/Users/Lenovo/Anaconda3\\\\Library\\\\include']\n",
      "blas_opt_info:\n",
      "    libraries = ['mkl_rt']\n",
      "    library_dirs = ['C:/Users/Lenovo/Anaconda3\\\\Library\\\\lib']\n",
      "    define_macros = [('SCIPY_MKL_H', None), ('HAVE_CBLAS', None)]\n",
      "    include_dirs = ['C:\\\\Program Files (x86)\\\\IntelSWTools\\\\compilers_and_libraries_2019.0.117\\\\windows\\\\mkl', 'C:\\\\Program Files (x86)\\\\IntelSWTools\\\\compilers_and_libraries_2019.0.117\\\\windows\\\\mkl\\\\include', 'C:\\\\Program Files (x86)\\\\IntelSWTools\\\\compilers_and_libraries_2019.0.117\\\\windows\\\\mkl\\\\lib', 'C:/Users/Lenovo/Anaconda3\\\\Library\\\\include']\n",
      "lapack_mkl_info:\n",
      "    libraries = ['mkl_rt']\n",
      "    library_dirs = ['C:/Users/Lenovo/Anaconda3\\\\Library\\\\lib']\n",
      "    define_macros = [('SCIPY_MKL_H', None), ('HAVE_CBLAS', None)]\n",
      "    include_dirs = ['C:\\\\Program Files (x86)\\\\IntelSWTools\\\\compilers_and_libraries_2019.0.117\\\\windows\\\\mkl', 'C:\\\\Program Files (x86)\\\\IntelSWTools\\\\compilers_and_libraries_2019.0.117\\\\windows\\\\mkl\\\\include', 'C:\\\\Program Files (x86)\\\\IntelSWTools\\\\compilers_and_libraries_2019.0.117\\\\windows\\\\mkl\\\\lib', 'C:/Users/Lenovo/Anaconda3\\\\Library\\\\include']\n",
      "lapack_opt_info:\n",
      "    libraries = ['mkl_rt']\n",
      "    library_dirs = ['C:/Users/Lenovo/Anaconda3\\\\Library\\\\lib']\n",
      "    define_macros = [('SCIPY_MKL_H', None), ('HAVE_CBLAS', None)]\n",
      "    include_dirs = ['C:\\\\Program Files (x86)\\\\IntelSWTools\\\\compilers_and_libraries_2019.0.117\\\\windows\\\\mkl', 'C:\\\\Program Files (x86)\\\\IntelSWTools\\\\compilers_and_libraries_2019.0.117\\\\windows\\\\mkl\\\\include', 'C:\\\\Program Files (x86)\\\\IntelSWTools\\\\compilers_and_libraries_2019.0.117\\\\windows\\\\mkl\\\\lib', 'C:/Users/Lenovo/Anaconda3\\\\Library\\\\include']\n"
     ]
    },
    {
     "data": {
      "text/plain": [
       "(None, None)"
      ]
     },
     "execution_count": 2,
     "metadata": {},
     "output_type": "execute_result"
    }
   ],
   "source": [
    "print(\"numpy的版本\"+np.__version__),np.show_config()  #"
   ]
  },
  {
   "cell_type": "markdown",
   "metadata": {},
   "source": [
    "### 3.创建一个长度为10的空向量"
   ]
  },
  {
   "cell_type": "code",
   "execution_count": 3,
   "metadata": {},
   "outputs": [
    {
     "name": "stdout",
     "output_type": "stream",
     "text": [
      "[0. 0. 0. 0. 0. 0. 0. 0. 0. 0.]\n"
     ]
    }
   ],
   "source": [
    "z=np.zeros(10)\n",
    "print(z)"
   ]
  },
  {
   "cell_type": "markdown",
   "metadata": {},
   "source": [
    "### 4.如何找到一个数组的内存大小"
   ]
  },
  {
   "cell_type": "code",
   "execution_count": 4,
   "metadata": {},
   "outputs": [
    {
     "name": "stdout",
     "output_type": "stream",
     "text": [
      "800\n"
     ]
    }
   ],
   "source": [
    "z=np.zeros((10,10))\n",
    "print(z.size*z.itemsize)\n",
    "#itemsize是指一个数组的元素所占的长度（以字节表示），不同的数字类型有不同的长度（比如dtype中flot与complex的长度肯定不一样）（complex是复数类型，这个还未了解）"
   ]
  },
  {
   "cell_type": "markdown",
   "metadata": {},
   "source": [
    "### 5.如何得到numpy中add函数的文档说明\n"
   ]
  },
  {
   "cell_type": "code",
   "execution_count": 5,
   "metadata": {},
   "outputs": [
    {
     "name": "stdout",
     "output_type": "stream",
     "text": [
      "add(x1, x2, /, out=None, *, where=True, casting='same_kind', order='K', dtype=None, subok=True[, signature, extobj])\n",
      "\n",
      "Add arguments element-wise.\n",
      "\n",
      "Parameters\n",
      "----------\n",
      "x1, x2 : array_like\n",
      "    The arrays to be added.  If ``x1.shape != x2.shape``, they must be\n",
      "    broadcastable to a common shape (which may be the shape of one or\n",
      "    the other).\n",
      "out : ndarray, None, or tuple of ndarray and None, optional\n",
      "    A location into which the result is stored. If provided, it must have\n",
      "    a shape that the inputs broadcast to. If not provided or `None`,\n",
      "    a freshly-allocated array is returned. A tuple (possible only as a\n",
      "    keyword argument) must have length equal to the number of outputs.\n",
      "where : array_like, optional\n",
      "    Values of True indicate to calculate the ufunc at that position, values\n",
      "    of False indicate to leave the value in the output alone.\n",
      "**kwargs\n",
      "    For other keyword-only arguments, see the\n",
      "    :ref:`ufunc docs <ufuncs.kwargs>`.\n",
      "\n",
      "Returns\n",
      "-------\n",
      "add : ndarray or scalar\n",
      "    The sum of `x1` and `x2`, element-wise.\n",
      "    This is a scalar if both `x1` and `x2` are scalars.\n",
      "\n",
      "Notes\n",
      "-----\n",
      "Equivalent to `x1` + `x2` in terms of array broadcasting.\n",
      "\n",
      "Examples\n",
      "--------\n",
      ">>> np.add(1.0, 4.0)\n",
      "5.0\n",
      ">>> x1 = np.arange(9.0).reshape((3, 3))\n",
      ">>> x2 = np.arange(3.0)\n",
      ">>> np.add(x1, x2)\n",
      "array([[  0.,   2.,   4.],\n",
      "       [  3.,   5.,   7.],\n",
      "       [  6.,   8.,  10.]])\n"
     ]
    }
   ],
   "source": [
    "np.info(np.add)"
   ]
  },
  {
   "cell_type": "markdown",
   "metadata": {},
   "source": [
    "### 6.创建一个长度为10并且第五个值为1的向量空向量"
   ]
  },
  {
   "cell_type": "code",
   "execution_count": 6,
   "metadata": {},
   "outputs": [
    {
     "name": "stdout",
     "output_type": "stream",
     "text": [
      "[0. 0. 0. 0. 1. 0. 0. 0. 0. 0.]\n"
     ]
    }
   ],
   "source": [
    "z=np.zeros(10)\n",
    "z[4]=1\n",
    "print(z)"
   ]
  },
  {
   "cell_type": "markdown",
   "metadata": {},
   "source": [
    "### 7.创建一个值域范围内从10到49的向量"
   ]
  },
  {
   "cell_type": "code",
   "execution_count": 7,
   "metadata": {},
   "outputs": [
    {
     "name": "stdout",
     "output_type": "stream",
     "text": [
      "[10 11 12 13 14 15 16 17 18 19 20 21 22 23 24 25 26 27 28 29 30 31 32 33\n",
      " 34 35 36 37 38 39 40 41 42 43 44 45 46 47 48]\n"
     ]
    }
   ],
   "source": [
    "z=np.arange(10,49)\n",
    "print(z)"
   ]
  },
  {
   "cell_type": "markdown",
   "metadata": {},
   "source": [
    "### 8.反转一个向量（从第一个元素变为最后一个元素）"
   ]
  },
  {
   "cell_type": "code",
   "execution_count": 8,
   "metadata": {},
   "outputs": [
    {
     "name": "stdout",
     "output_type": "stream",
     "text": [
      "[49 48 47 46 45 44 43 42 41 40 39 38 37 36 35 34 33 32 31 30 29 28 27 26\n",
      " 25 24 23 22 21 20 19 18 17 16 15 14 13 12 11 10  9  8  7  6  5  4  3  2\n",
      "  1  0]\n"
     ]
    }
   ],
   "source": [
    "z=np.arange(50)\n",
    "z=z[::-1]    #这是时候将这个数组从后往前遍历\n",
    "print(z)"
   ]
  },
  {
   "cell_type": "markdown",
   "metadata": {},
   "source": [
    "### 9.创建一个3*3的矩阵，然后从0~8"
   ]
  },
  {
   "cell_type": "code",
   "execution_count": 9,
   "metadata": {},
   "outputs": [
    {
     "name": "stdout",
     "output_type": "stream",
     "text": [
      "[[0 1 2]\n",
      " [3 4 5]\n",
      " [6 7 8]]\n"
     ]
    }
   ],
   "source": [
    "z=np.arange(9).reshape((3,3))\n",
    "print(z)"
   ]
  },
  {
   "cell_type": "markdown",
   "metadata": {},
   "source": [
    "### 10.找到数组【1,2,0,0,4,0】中非0元素的位置索引"
   ]
  },
  {
   "cell_type": "code",
   "execution_count": 10,
   "metadata": {},
   "outputs": [
    {
     "name": "stdout",
     "output_type": "stream",
     "text": [
      "(array([0, 1, 4], dtype=int64),)\n"
     ]
    }
   ],
   "source": [
    "a=[1,2,0,0,4,0]\n",
    "nz=np.nonzero(a)   #nonzero是将非零的元素的索引返回，然后将数字类型搞出来\n",
    "print(nz)"
   ]
  },
  {
   "cell_type": "markdown",
   "metadata": {},
   "source": [
    "### 11.创建一个3*3的单位矩阵"
   ]
  },
  {
   "cell_type": "code",
   "execution_count": 11,
   "metadata": {},
   "outputs": [
    {
     "name": "stdout",
     "output_type": "stream",
     "text": [
      "[[1. 0. 0.]\n",
      " [0. 1. 0.]\n",
      " [0. 0. 1.]]\n"
     ]
    }
   ],
   "source": [
    "z=np.eye(3)\n",
    "print(z)"
   ]
  },
  {
   "cell_type": "markdown",
   "metadata": {},
   "source": [
    "### 12.创建一个3\\*3\\*3的随机数组"
   ]
  },
  {
   "cell_type": "code",
   "execution_count": 12,
   "metadata": {},
   "outputs": [
    {
     "name": "stdout",
     "output_type": "stream",
     "text": [
      "[[[0.86612843 0.27927953 0.85901358]\n",
      "  [0.04581943 0.10994034 0.04886274]\n",
      "  [0.91918765 0.50674987 0.7196552 ]]\n",
      "\n",
      " [[0.61154154 0.60158606 0.1662134 ]\n",
      "  [0.71970573 0.42752862 0.36491446]\n",
      "  [0.88457949 0.41324857 0.81300708]]\n",
      "\n",
      " [[0.45416754 0.90590386 0.0113495 ]\n",
      "  [0.28714156 0.19951672 0.22154397]\n",
      "  [0.57890405 0.85182399 0.05348335]]]\n"
     ]
    }
   ],
   "source": [
    "#z=np.random.rand(3,3,3)   #方法一,这个方法的数据分布是正态的,所以可以存在正数和负数\n",
    "z=np.random.random_sample((3,3,3))\n",
    "print(z)"
   ]
  },
  {
   "cell_type": "markdown",
   "metadata": {},
   "source": [
    "### 13.创建一个10*10的随机数组被找到它的最大和最小值"
   ]
  },
  {
   "cell_type": "code",
   "execution_count": 13,
   "metadata": {},
   "outputs": [
    {
     "name": "stdout",
     "output_type": "stream",
     "text": [
      "max_val and min_val is 2.3758813210318666,-3.93836142305252\n"
     ]
    }
   ],
   "source": [
    "z=np.random.randn(3,3,3)\n",
    "zmin,zmax=z.min(),z.max()\n",
    "print(\"max_val and min_val is \"+str(zmax)+\",\"+str(zmin))"
   ]
  },
  {
   "cell_type": "markdown",
   "metadata": {},
   "source": [
    "### 14.创建一个长度为30的随机向量并找到它的平均值"
   ]
  },
  {
   "cell_type": "code",
   "execution_count": 14,
   "metadata": {},
   "outputs": [
    {
     "name": "stdout",
     "output_type": "stream",
     "text": [
      "长度为30随机向量[0.97043332 0.1426573  0.43110015 0.67326047 0.69737101 0.83187045\n",
      " 0.48216339 0.70184579 0.37340126 0.13457425 0.89729992 0.82977751\n",
      " 0.92182434 0.44531325 0.71308669 0.90658184 0.85044903 0.96921646\n",
      " 0.87683911 0.24250146 0.4519146  0.10370196 0.18533915 0.64586479\n",
      " 0.60278101 0.82041718 0.98580246 0.96968937 0.42063727 0.88944033]\n",
      "0.6389051716793326\n"
     ]
    }
   ],
   "source": [
    "z=np.random.rand(30)  #对照上面，如果是某个维度上的数字大小，决定了这个维度上的长度\n",
    "print(\"长度为30随机向量\"+str(z))\n",
    "val_mean=z.mean()\n",
    "print(val_mean)"
   ]
  },
  {
   "cell_type": "markdown",
   "metadata": {},
   "source": [
    "### 15.创建一个二维数组，其中边界为1，其余值为0"
   ]
  },
  {
   "cell_type": "code",
   "execution_count": 15,
   "metadata": {},
   "outputs": [
    {
     "name": "stdout",
     "output_type": "stream",
     "text": [
      "[[1. 1. 1. ... 1. 1. 1.]\n",
      " [1. 0. 0. ... 0. 0. 1.]\n",
      " [1. 0. 0. ... 0. 0. 1.]\n",
      " ...\n",
      " [1. 0. 0. ... 0. 0. 1.]\n",
      " [1. 0. 0. ... 0. 0. 1.]\n",
      " [1. 1. 1. ... 1. 1. 1.]]\n"
     ]
    }
   ],
   "source": [
    "z=np.ones((50,50))\n",
    "z[1:-1:1,1:-1:1]=0    #list的遍历是中将最后一个数写为-1,但是最后取不到最后那个数，如果想取到最后那个数，我需要写为:\n",
    "print(z)"
   ]
  },
  {
   "cell_type": "markdown",
   "metadata": {},
   "source": [
    "### 16.对于所存在的数组，如何添加一个用0填充的边界"
   ]
  },
  {
   "cell_type": "code",
   "execution_count": 16,
   "metadata": {},
   "outputs": [
    {
     "name": "stdout",
     "output_type": "stream",
     "text": [
      " pad(array, pad_width, mode, **kwargs)\n",
      "\n",
      "Pads an array.\n",
      "\n",
      "Parameters\n",
      "----------\n",
      "array : array_like of rank N\n",
      "    Input array\n",
      "pad_width : {sequence, array_like, int}\n",
      "    Number of values padded to the edges of each axis.\n",
      "    ((before_1, after_1), ... (before_N, after_N)) unique pad widths\n",
      "    for each axis.\n",
      "    ((before, after),) yields same before and after pad for each axis.\n",
      "    (pad,) or int is a shortcut for before = after = pad width for all\n",
      "    axes.\n",
      "mode : str or function\n",
      "    One of the following string values or a user supplied function.\n",
      "\n",
      "    'constant'\n",
      "        Pads with a constant value.\n",
      "    'edge'\n",
      "        Pads with the edge values of array.\n",
      "    'linear_ramp'\n",
      "        Pads with the linear ramp between end_value and the\n",
      "        array edge value.\n",
      "    'maximum'\n",
      "        Pads with the maximum value of all or part of the\n",
      "        vector along each axis.\n",
      "    'mean'\n",
      "        Pads with the mean value of all or part of the\n",
      "        vector along each axis.\n",
      "    'median'\n",
      "        Pads with the median value of all or part of the\n",
      "        vector along each axis.\n",
      "    'minimum'\n",
      "        Pads with the minimum value of all or part of the\n",
      "        vector along each axis.\n",
      "    'reflect'\n",
      "        Pads with the reflection of the vector mirrored on\n",
      "        the first and last values of the vector along each\n",
      "        axis.\n",
      "    'symmetric'\n",
      "        Pads with the reflection of the vector mirrored\n",
      "        along the edge of the array.\n",
      "    'wrap'\n",
      "        Pads with the wrap of the vector along the axis.\n",
      "        The first values are used to pad the end and the\n",
      "        end values are used to pad the beginning.\n",
      "    <function>\n",
      "        Padding function, see Notes.\n",
      "stat_length : sequence or int, optional\n",
      "    Used in 'maximum', 'mean', 'median', and 'minimum'.  Number of\n",
      "    values at edge of each axis used to calculate the statistic value.\n",
      "\n",
      "    ((before_1, after_1), ... (before_N, after_N)) unique statistic\n",
      "    lengths for each axis.\n",
      "\n",
      "    ((before, after),) yields same before and after statistic lengths\n",
      "    for each axis.\n",
      "\n",
      "    (stat_length,) or int is a shortcut for before = after = statistic\n",
      "    length for all axes.\n",
      "\n",
      "    Default is ``None``, to use the entire axis.\n",
      "constant_values : sequence or int, optional\n",
      "    Used in 'constant'.  The values to set the padded values for each\n",
      "    axis.\n",
      "\n",
      "    ((before_1, after_1), ... (before_N, after_N)) unique pad constants\n",
      "    for each axis.\n",
      "\n",
      "    ((before, after),) yields same before and after constants for each\n",
      "    axis.\n",
      "\n",
      "    (constant,) or int is a shortcut for before = after = constant for\n",
      "    all axes.\n",
      "\n",
      "    Default is 0.\n",
      "end_values : sequence or int, optional\n",
      "    Used in 'linear_ramp'.  The values used for the ending value of the\n",
      "    linear_ramp and that will form the edge of the padded array.\n",
      "\n",
      "    ((before_1, after_1), ... (before_N, after_N)) unique end values\n",
      "    for each axis.\n",
      "\n",
      "    ((before, after),) yields same before and after end values for each\n",
      "    axis.\n",
      "\n",
      "    (constant,) or int is a shortcut for before = after = end value for\n",
      "    all axes.\n",
      "\n",
      "    Default is 0.\n",
      "reflect_type : {'even', 'odd'}, optional\n",
      "    Used in 'reflect', and 'symmetric'.  The 'even' style is the\n",
      "    default with an unaltered reflection around the edge value.  For\n",
      "    the 'odd' style, the extended part of the array is created by\n",
      "    subtracting the reflected values from two times the edge value.\n",
      "\n",
      "Returns\n",
      "-------\n",
      "pad : ndarray\n",
      "    Padded array of rank equal to `array` with shape increased\n",
      "    according to `pad_width`.\n",
      "\n",
      "Notes\n",
      "-----\n",
      ".. versionadded:: 1.7.0\n",
      "\n",
      "For an array with rank greater than 1, some of the padding of later\n",
      "axes is calculated from padding of previous axes.  This is easiest to\n",
      "think about with a rank 2 array where the corners of the padded array\n",
      "are calculated by using padded values from the first axis.\n",
      "\n",
      "The padding function, if used, should return a rank 1 array equal in\n",
      "length to the vector argument with padded values replaced. It has the\n",
      "following signature::\n",
      "\n",
      "    padding_func(vector, iaxis_pad_width, iaxis, kwargs)\n",
      "\n",
      "where\n",
      "\n",
      "    vector : ndarray\n",
      "        A rank 1 array already padded with zeros.  Padded values are\n",
      "        vector[:pad_tuple[0]] and vector[-pad_tuple[1]:].\n",
      "    iaxis_pad_width : tuple\n",
      "        A 2-tuple of ints, iaxis_pad_width[0] represents the number of\n",
      "        values padded at the beginning of vector where\n",
      "        iaxis_pad_width[1] represents the number of values padded at\n",
      "        the end of vector.\n",
      "    iaxis : int\n",
      "        The axis currently being calculated.\n",
      "    kwargs : dict\n",
      "        Any keyword arguments the function requires.\n",
      "\n",
      "Examples\n",
      "--------\n",
      ">>> a = [1, 2, 3, 4, 5]\n",
      ">>> np.pad(a, (2,3), 'constant', constant_values=(4, 6))\n",
      "array([4, 4, 1, 2, 3, 4, 5, 6, 6, 6])\n",
      "\n",
      ">>> np.pad(a, (2, 3), 'edge')\n",
      "array([1, 1, 1, 2, 3, 4, 5, 5, 5, 5])\n",
      "\n",
      ">>> np.pad(a, (2, 3), 'linear_ramp', end_values=(5, -4))\n",
      "array([ 5,  3,  1,  2,  3,  4,  5,  2, -1, -4])\n",
      "\n",
      ">>> np.pad(a, (2,), 'maximum')\n",
      "array([5, 5, 1, 2, 3, 4, 5, 5, 5])\n",
      "\n",
      ">>> np.pad(a, (2,), 'mean')\n",
      "array([3, 3, 1, 2, 3, 4, 5, 3, 3])\n",
      "\n",
      ">>> np.pad(a, (2,), 'median')\n",
      "array([3, 3, 1, 2, 3, 4, 5, 3, 3])\n",
      "\n",
      ">>> a = [[1, 2], [3, 4]]\n",
      ">>> np.pad(a, ((3, 2), (2, 3)), 'minimum')\n",
      "array([[1, 1, 1, 2, 1, 1, 1],\n",
      "       [1, 1, 1, 2, 1, 1, 1],\n",
      "       [1, 1, 1, 2, 1, 1, 1],\n",
      "       [1, 1, 1, 2, 1, 1, 1],\n",
      "       [3, 3, 3, 4, 3, 3, 3],\n",
      "       [1, 1, 1, 2, 1, 1, 1],\n",
      "       [1, 1, 1, 2, 1, 1, 1]])\n",
      "\n",
      ">>> a = [1, 2, 3, 4, 5]\n",
      ">>> np.pad(a, (2, 3), 'reflect')\n",
      "array([3, 2, 1, 2, 3, 4, 5, 4, 3, 2])\n",
      "\n",
      ">>> np.pad(a, (2, 3), 'reflect', reflect_type='odd')\n",
      "array([-1,  0,  1,  2,  3,  4,  5,  6,  7,  8])\n",
      "\n",
      ">>> np.pad(a, (2, 3), 'symmetric')\n",
      "array([2, 1, 1, 2, 3, 4, 5, 5, 4, 3])\n",
      "\n",
      ">>> np.pad(a, (2, 3), 'symmetric', reflect_type='odd')\n",
      "array([0, 1, 1, 2, 3, 4, 5, 5, 6, 7])\n",
      "\n",
      ">>> np.pad(a, (2, 3), 'wrap')\n",
      "array([4, 5, 1, 2, 3, 4, 5, 1, 2, 3])\n",
      "\n",
      ">>> def pad_with(vector, pad_width, iaxis, kwargs):\n",
      "...     pad_value = kwargs.get('padder', 10)\n",
      "...     vector[:pad_width[0]] = pad_value\n",
      "...     vector[-pad_width[1]:] = pad_value\n",
      "...     return vector\n",
      ">>> a = np.arange(6)\n",
      ">>> a = a.reshape((2, 3))\n",
      ">>> np.pad(a, 2, pad_with)\n",
      "array([[10, 10, 10, 10, 10, 10, 10],\n",
      "       [10, 10, 10, 10, 10, 10, 10],\n",
      "       [10, 10,  0,  1,  2, 10, 10],\n",
      "       [10, 10,  3,  4,  5, 10, 10],\n",
      "       [10, 10, 10, 10, 10, 10, 10],\n",
      "       [10, 10, 10, 10, 10, 10, 10]])\n",
      ">>> np.pad(a, 2, pad_with, padder=100)\n",
      "array([[100, 100, 100, 100, 100, 100, 100],\n",
      "       [100, 100, 100, 100, 100, 100, 100],\n",
      "       [100, 100,   0,   1,   2, 100, 100],\n",
      "       [100, 100,   3,   4,   5, 100, 100],\n",
      "       [100, 100, 100, 100, 100, 100, 100],\n",
      "       [100, 100, 100, 100, 100, 100, 100]])\n"
     ]
    }
   ],
   "source": [
    "np.info(np.pad)"
   ]
  },
  {
   "cell_type": "code",
   "execution_count": 17,
   "metadata": {},
   "outputs": [
    {
     "name": "stdout",
     "output_type": "stream",
     "text": [
      "[[0. 0. 0. 0. 0. 0. 0.]\n",
      " [0. 1. 1. 1. 1. 1. 0.]\n",
      " [0. 1. 1. 1. 1. 1. 0.]\n",
      " [0. 1. 1. 1. 1. 1. 0.]\n",
      " [0. 1. 1. 1. 1. 1. 0.]\n",
      " [0. 1. 1. 1. 1. 1. 0.]\n",
      " [0. 0. 0. 0. 0. 0. 0.]]\n"
     ]
    }
   ],
   "source": [
    "z=np.ones((5,5))\n",
    "z=np.pad(z,pad_width=1,mode='constant',constant_values=0) #数字pad_width=1表示这个边界一层\n",
    "print(z)"
   ]
  },
  {
   "cell_type": "markdown",
   "metadata": {},
   "source": [
    "### 17.以下表达式运行结果分别是"
   ]
  },
  {
   "cell_type": "code",
   "execution_count": 18,
   "metadata": {},
   "outputs": [
    {
     "name": "stdout",
     "output_type": "stream",
     "text": [
      "nan\n",
      "False\n",
      "False\n",
      "nan\n",
      "False\n"
     ]
    },
    {
     "data": {
      "text/plain": [
       "'\\n和nan一样让人搞混的是None，None是python表示空缺的，nan是numpy个pandas表示空缺的。\\n其中None是python中特殊的数据类型。而nan是一个特殊的float。\\n通过float的特性就可以知道为什么上面会有这样的输出了。\\n'"
      ]
     },
     "execution_count": 18,
     "metadata": {},
     "output_type": "execute_result"
    }
   ],
   "source": [
    "print(0*np.nan)\n",
    "print(np.nan==np.nan)\n",
    "print(np.inf>np.nan)\n",
    "print(np.nan-np.nan)\n",
    "print(0.3==3*0.1)\n",
    "\"\"\"\n",
    "和nan一样让人搞混的是None，None是python表示空缺的，nan是numpy个pandas表示空缺的。\n",
    "其中None是python中特殊的数据类型。而nan是一个特殊的float。\n",
    "通过float的特性就可以知道为什么上面会有这样的输出了。\n",
    "\"\"\""
   ]
  },
  {
   "cell_type": "markdown",
   "metadata": {},
   "source": [
    "### 18.创建一个5\\*5的矩阵，并设置1,2,3,4落在其对角线下方的位置"
   ]
  },
  {
   "cell_type": "code",
   "execution_count": 19,
   "metadata": {},
   "outputs": [
    {
     "name": "stdout",
     "output_type": "stream",
     "text": [
      " diag(v, k=0)\n",
      "\n",
      "Extract a diagonal or construct a diagonal array.\n",
      "\n",
      "See the more detailed documentation for ``numpy.diagonal`` if you use this\n",
      "function to extract a diagonal and wish to write to the resulting array;\n",
      "whether it returns a copy or a view depends on what version of numpy you\n",
      "are using.\n",
      "\n",
      "Parameters\n",
      "----------\n",
      "v : array_like\n",
      "    If `v` is a 2-D array, return a copy of its `k`-th diagonal.\n",
      "    If `v` is a 1-D array, return a 2-D array with `v` on the `k`-th\n",
      "    diagonal.\n",
      "k : int, optional\n",
      "    Diagonal in question. The default is 0. Use `k>0` for diagonals\n",
      "    above the main diagonal, and `k<0` for diagonals below the main\n",
      "    diagonal.\n",
      "\n",
      "Returns\n",
      "-------\n",
      "out : ndarray\n",
      "    The extracted diagonal or constructed diagonal array.\n",
      "\n",
      "See Also\n",
      "--------\n",
      "diagonal : Return specified diagonals.\n",
      "diagflat : Create a 2-D array with the flattened input as a diagonal.\n",
      "trace : Sum along diagonals.\n",
      "triu : Upper triangle of an array.\n",
      "tril : Lower triangle of an array.\n",
      "\n",
      "Examples\n",
      "--------\n",
      ">>> x = np.arange(9).reshape((3,3))\n",
      ">>> x\n",
      "array([[0, 1, 2],\n",
      "       [3, 4, 5],\n",
      "       [6, 7, 8]])\n",
      "\n",
      ">>> np.diag(x)\n",
      "array([0, 4, 8])\n",
      ">>> np.diag(x, k=1)\n",
      "array([1, 5])\n",
      ">>> np.diag(x, k=-1)\n",
      "array([3, 7])\n",
      "\n",
      ">>> np.diag(np.diag(x))\n",
      "array([[0, 0, 0],\n",
      "       [0, 4, 0],\n",
      "       [0, 0, 8]])\n"
     ]
    }
   ],
   "source": [
    "np.info(np.diag)"
   ]
  },
  {
   "cell_type": "code",
   "execution_count": 20,
   "metadata": {},
   "outputs": [
    {
     "name": "stdout",
     "output_type": "stream",
     "text": [
      "[[0 0 0 0 0]\n",
      " [1 0 0 0 0]\n",
      " [0 2 0 0 0]\n",
      " [0 0 3 0 0]\n",
      " [0 0 0 4 0]]\n"
     ]
    }
   ],
   "source": [
    "z=np.diag(1+np.arange(4),k=-1)  #要注意arrange和array的区别，一个是创造一个数组，一个数让其成为一个数组。\n",
    "print(z)"
   ]
  },
  {
   "cell_type": "markdown",
   "metadata": {},
   "source": [
    "### 19.创建一个8\\*8的矩阵，设置成棋盘样式"
   ]
  },
  {
   "cell_type": "code",
   "execution_count": 21,
   "metadata": {},
   "outputs": [
    {
     "name": "stdout",
     "output_type": "stream",
     "text": [
      "[[0. 1. 0. 1. 0. 1. 0. 1.]\n",
      " [1. 0. 1. 0. 1. 0. 1. 0.]\n",
      " [0. 1. 0. 1. 0. 1. 0. 1.]\n",
      " [1. 0. 1. 0. 1. 0. 1. 0.]\n",
      " [0. 1. 0. 1. 0. 1. 0. 1.]\n",
      " [1. 0. 1. 0. 1. 0. 1. 0.]\n",
      " [0. 1. 0. 1. 0. 1. 0. 1.]\n",
      " [1. 0. 1. 0. 1. 0. 1. 0.]]\n"
     ]
    }
   ],
   "source": [
    "z=np.zeros((8,8))\n",
    "z[1::2,0::2]=1\n",
    "z[0::2,1::2]=1\n",
    "print(z)"
   ]
  },
  {
   "cell_type": "markdown",
   "metadata": {},
   "source": [
    "### 20.考虑一个（6,7,8）形状的数组，其中第100个元素的索引(x,y,z)是什么"
   ]
  },
  {
   "cell_type": "code",
   "execution_count": 22,
   "metadata": {},
   "outputs": [
    {
     "name": "stdout",
     "output_type": "stream",
     "text": [
      "unravel_index(indices, shape, order='C')\n",
      "\n",
      "Converts a flat index or array of flat indices into a tuple\n",
      "of coordinate arrays.\n",
      "\n",
      "Parameters\n",
      "----------\n",
      "indices : array_like\n",
      "    An integer array whose elements are indices into the flattened\n",
      "    version of an array of dimensions ``shape``. Before version 1.6.0,\n",
      "    this function accepted just one index value.\n",
      "shape : tuple of ints\n",
      "    The shape of the array to use for unraveling ``indices``.\n",
      "\n",
      "    .. versionchanged:: 1.16.0\n",
      "        Renamed from ``dims`` to ``shape``.\n",
      "\n",
      "order : {'C', 'F'}, optional\n",
      "    Determines whether the indices should be viewed as indexing in\n",
      "    row-major (C-style) or column-major (Fortran-style) order.\n",
      "\n",
      "    .. versionadded:: 1.6.0\n",
      "\n",
      "Returns\n",
      "-------\n",
      "unraveled_coords : tuple of ndarray\n",
      "    Each array in the tuple has the same shape as the ``indices``\n",
      "    array.\n",
      "\n",
      "See Also\n",
      "--------\n",
      "ravel_multi_index\n",
      "\n",
      "Examples\n",
      "--------\n",
      ">>> np.unravel_index([22, 41, 37], (7,6))\n",
      "(array([3, 6, 6]), array([4, 5, 1]))\n",
      ">>> np.unravel_index([31, 41, 13], (7,6), order='F')\n",
      "(array([3, 6, 6]), array([4, 5, 1]))\n",
      "\n",
      ">>> np.unravel_index(1621, (6,7,8,9))\n",
      "(3, 1, 4, 1)\n"
     ]
    }
   ],
   "source": [
    "np.info(np.unravel_index)"
   ]
  },
  {
   "cell_type": "code",
   "execution_count": 23,
   "metadata": {},
   "outputs": [
    {
     "name": "stdout",
     "output_type": "stream",
     "text": [
      "(5, 6, 7)\n"
     ]
    },
    {
     "data": {
      "text/plain": [
       "'\\n如果是填入的是形状(x,y,z)，那么找到的就是这个位置（第几个）\\n如果填入的是向量本身，那么找到的就是那个数字的位置\\n'"
      ]
     },
     "execution_count": 23,
     "metadata": {},
     "output_type": "execute_result"
    }
   ],
   "source": [
    "print(np.unravel_index(335,(6,7,8)))\n",
    "\"\"\"\n",
    "如果是填入的是形状(x,y,z)，那么找到的就是这个位置（第几个）\n",
    "如果填入的是向量本身，那么找到的就是那个数字的位置\n",
    "\"\"\""
   ]
  },
  {
   "cell_type": "markdown",
   "metadata": {},
   "source": [
    "### 21.用tile函数创建一个8\\*8"
   ]
  },
  {
   "cell_type": "code",
   "execution_count": 24,
   "metadata": {},
   "outputs": [
    {
     "name": "stdout",
     "output_type": "stream",
     "text": [
      " tile(A, reps)\n",
      "\n",
      "Construct an array by repeating A the number of times given by reps.\n",
      "\n",
      "If `reps` has length ``d``, the result will have dimension of\n",
      "``max(d, A.ndim)``.\n",
      "\n",
      "If ``A.ndim < d``, `A` is promoted to be d-dimensional by prepending new\n",
      "axes. So a shape (3,) array is promoted to (1, 3) for 2-D replication,\n",
      "or shape (1, 1, 3) for 3-D replication. If this is not the desired\n",
      "behavior, promote `A` to d-dimensions manually before calling this\n",
      "function.\n",
      "\n",
      "If ``A.ndim > d``, `reps` is promoted to `A`.ndim by pre-pending 1's to it.\n",
      "Thus for an `A` of shape (2, 3, 4, 5), a `reps` of (2, 2) is treated as\n",
      "(1, 1, 2, 2).\n",
      "\n",
      "Note : Although tile may be used for broadcasting, it is strongly\n",
      "recommended to use numpy's broadcasting operations and functions.\n",
      "\n",
      "Parameters\n",
      "----------\n",
      "A : array_like\n",
      "    The input array.\n",
      "reps : array_like\n",
      "    The number of repetitions of `A` along each axis.\n",
      "\n",
      "Returns\n",
      "-------\n",
      "c : ndarray\n",
      "    The tiled output array.\n",
      "\n",
      "See Also\n",
      "--------\n",
      "repeat : Repeat elements of an array.\n",
      "broadcast_to : Broadcast an array to a new shape\n",
      "\n",
      "Examples\n",
      "--------\n",
      ">>> a = np.array([0, 1, 2])\n",
      ">>> np.tile(a, 2)\n",
      "array([0, 1, 2, 0, 1, 2])\n",
      ">>> np.tile(a, (2, 2))\n",
      "array([[0, 1, 2, 0, 1, 2],\n",
      "       [0, 1, 2, 0, 1, 2]])\n",
      ">>> np.tile(a, (2, 1, 2))\n",
      "array([[[0, 1, 2, 0, 1, 2]],\n",
      "       [[0, 1, 2, 0, 1, 2]]])\n",
      "\n",
      ">>> b = np.array([[1, 2], [3, 4]])\n",
      ">>> np.tile(b, 2)\n",
      "array([[1, 2, 1, 2],\n",
      "       [3, 4, 3, 4]])\n",
      ">>> np.tile(b, (2, 1))\n",
      "array([[1, 2],\n",
      "       [3, 4],\n",
      "       [1, 2],\n",
      "       [3, 4]])\n",
      "\n",
      ">>> c = np.array([1,2,3,4])\n",
      ">>> np.tile(c,(4,1))\n",
      "array([[1, 2, 3, 4],\n",
      "       [1, 2, 3, 4],\n",
      "       [1, 2, 3, 4],\n",
      "       [1, 2, 3, 4]])\n"
     ]
    }
   ],
   "source": [
    "np.info(np.tile)"
   ]
  },
  {
   "cell_type": "code",
   "execution_count": 25,
   "metadata": {},
   "outputs": [
    {
     "name": "stdout",
     "output_type": "stream",
     "text": [
      "[[0 1 0 1 0 1 0 1]\n",
      " [1 0 1 0 1 0 1 0]\n",
      " [0 1 0 1 0 1 0 1]\n",
      " [1 0 1 0 1 0 1 0]\n",
      " [0 1 0 1 0 1 0 1]\n",
      " [1 0 1 0 1 0 1 0]\n",
      " [0 1 0 1 0 1 0 1]\n",
      " [1 0 1 0 1 0 1 0]]\n"
     ]
    }
   ],
   "source": [
    "z=np.tile(np.array([[0,1],[1,0]]),(4,4))  #对于二维数组认识不够（上升到多维）\n",
    "print(z)"
   ]
  },
  {
   "cell_type": "markdown",
   "metadata": {},
   "source": [
    "### 22.对一个5\\*5的随机矩阵do归一化处理"
   ]
  },
  {
   "cell_type": "code",
   "execution_count": 26,
   "metadata": {},
   "outputs": [
    {
     "name": "stdout",
     "output_type": "stream",
     "text": [
      "[[0.06596405 0.02650148 0.20830155 0.16612644 0.38930432]\n",
      " [0.59044729 0.52977723 0.98350297 1.         0.07980521]\n",
      " [0.43356578 0.77410151 0.55367506 0.66307029 0.05834622]\n",
      " [0.96438135 0.91415557 0.69113206 0.7026853  0.81362295]\n",
      " [0.86391552 0.47656858 0.9964541  0.08129851 0.        ]]\n"
     ]
    }
   ],
   "source": [
    "z=np.random.random((5,5))\n",
    "zmin,zmax=z.min(),z.max()\n",
    "z=(z-zmin)/(zmax-zmin)\n",
    "print(z)"
   ]
  },
  {
   "cell_type": "markdown",
   "metadata": {},
   "source": [
    "### 23.创建一个将颜色描述为(RGBA)四个无符号字节的自定义dytpe?"
   ]
  },
  {
   "cell_type": "code",
   "execution_count": 27,
   "metadata": {},
   "outputs": [
    {
     "name": "stdout",
     "output_type": "stream",
     "text": [
      " dtype()\n",
      "\n",
      "dtype(obj, align=False, copy=False)\n",
      "\n",
      "Create a data type object.\n",
      "\n",
      "A numpy array is homogeneous, and contains elements described by a\n",
      "dtype object. A dtype object can be constructed from different\n",
      "combinations of fundamental numeric types.\n",
      "\n",
      "Parameters\n",
      "----------\n",
      "obj\n",
      "    Object to be converted to a data type object.\n",
      "align : bool, optional\n",
      "    Add padding to the fields to match what a C compiler would output\n",
      "    for a similar C-struct. Can be ``True`` only if `obj` is a dictionary\n",
      "    or a comma-separated string. If a struct dtype is being created,\n",
      "    this also sets a sticky alignment flag ``isalignedstruct``.\n",
      "copy : bool, optional\n",
      "    Make a new copy of the data-type object. If ``False``, the result\n",
      "    may just be a reference to a built-in data-type object.\n",
      "\n",
      "See also\n",
      "--------\n",
      "result_type\n",
      "\n",
      "Examples\n",
      "--------\n",
      "Using array-scalar type:\n",
      "\n",
      ">>> np.dtype(np.int16)\n",
      "dtype('int16')\n",
      "\n",
      "Structured type, one field name 'f1', containing int16:\n",
      "\n",
      ">>> np.dtype([('f1', np.int16)])\n",
      "dtype([('f1', '<i2')])\n",
      "\n",
      "Structured type, one field named 'f1', in itself containing a structured\n",
      "type with one field:\n",
      "\n",
      ">>> np.dtype([('f1', [('f1', np.int16)])])\n",
      "dtype([('f1', [('f1', '<i2')])])\n",
      "\n",
      "Structured type, two fields: the first field contains an unsigned int, the\n",
      "second an int32:\n",
      "\n",
      ">>> np.dtype([('f1', np.uint), ('f2', np.int32)])\n",
      "dtype([('f1', '<u4'), ('f2', '<i4')])\n",
      "\n",
      "Using array-protocol type strings:\n",
      "\n",
      ">>> np.dtype([('a','f8'),('b','S10')])\n",
      "dtype([('a', '<f8'), ('b', '|S10')])\n",
      "\n",
      "Using comma-separated field formats.  The shape is (2,3):\n",
      "\n",
      ">>> np.dtype(\"i4, (2,3)f8\")\n",
      "dtype([('f0', '<i4'), ('f1', '<f8', (2, 3))])\n",
      "\n",
      "Using tuples.  ``int`` is a fixed type, 3 the field's shape.  ``void``\n",
      "is a flexible type, here of size 10:\n",
      "\n",
      ">>> np.dtype([('hello',(int,3)),('world',np.void,10)])\n",
      "dtype([('hello', '<i4', 3), ('world', '|V10')])\n",
      "\n",
      "Subdivide ``int16`` into 2 ``int8``'s, called x and y.  0 and 1 are\n",
      "the offsets in bytes:\n",
      "\n",
      ">>> np.dtype((np.int16, {'x':(np.int8,0), 'y':(np.int8,1)}))\n",
      "dtype(('<i2', [('x', '|i1'), ('y', '|i1')]))\n",
      "\n",
      "Using dictionaries.  Two fields named 'gender' and 'age':\n",
      "\n",
      ">>> np.dtype({'names':['gender','age'], 'formats':['S1',np.uint8]})\n",
      "dtype([('gender', '|S1'), ('age', '|u1')])\n",
      "\n",
      "Offsets in bytes, here 0 and 25:\n",
      "\n",
      ">>> np.dtype({'surname':('S25',0),'age':(np.uint8,25)})\n",
      "dtype([('surname', '|S25'), ('age', '|u1')])\n",
      "\n",
      "\n",
      "Methods:\n",
      "\n",
      "  newbyteorder  --  newbyteorder(new_order='S')\n"
     ]
    }
   ],
   "source": [
    "np.info(np.dtype)"
   ]
  },
  {
   "cell_type": "code",
   "execution_count": 28,
   "metadata": {},
   "outputs": [
    {
     "data": {
      "text/plain": [
       "dtype([('r', 'u1'), ('g', 'u1'), ('b', 'u1'), ('a', 'u1')])"
      ]
     },
     "execution_count": 28,
     "metadata": {},
     "output_type": "execute_result"
    }
   ],
   "source": [
    "color=np.dtype([\n",
    "    (\"r\",np.ubyte,1),\n",
    "    (\"g\",np.ubyte,1),\n",
    "    (\"b\",np.ubyte,1),\n",
    "    (\"a\",np.ubyte,1)])\n",
    "color"
   ]
  },
  {
   "cell_type": "markdown",
   "metadata": {},
   "source": [
    "### 24.一个5\\*3的矩阵和一个3\\*2的矩阵成绩是什么？"
   ]
  },
  {
   "cell_type": "code",
   "execution_count": 29,
   "metadata": {},
   "outputs": [
    {
     "name": "stdout",
     "output_type": "stream",
     "text": [
      "[[0.55106516 0.86494718]\n",
      " [0.39318007 0.50528256]\n",
      " [0.31502329 0.56974601]\n",
      " [0.32360231 0.59167265]\n",
      " [0.34809017 0.35377307]]\n"
     ]
    }
   ],
   "source": [
    "a=np.random.random((5,3))\n",
    "b=np.random.random((3,2))\n",
    "print(np.dot(a,b))"
   ]
  },
  {
   "cell_type": "markdown",
   "metadata": {},
   "source": [
    "### 25.给定义一个一维数组，对其3到8之间所有元素取反"
   ]
  },
  {
   "cell_type": "code",
   "execution_count": 30,
   "metadata": {},
   "outputs": [
    {
     "name": "stdout",
     "output_type": "stream",
     "text": [
      "[ 0  1  2 -3 -4 -5 -6 -7  8  9 10]\n"
     ]
    }
   ],
   "source": [
    "z=np.arange(11)\n",
    "#z[(3<=z)&(z<7)]*=-1  #如何取一个区间的元素\n",
    "z[3:8]*=-1           #这两个都可以\n",
    "print(z)"
   ]
  },
  {
   "cell_type": "markdown",
   "metadata": {},
   "source": [
    "#  26.下面运行的结果是什么  "
   ]
  },
  {
   "cell_type": "markdown",
   "metadata": {},
   "source": [
    "```python\n",
    "print(sum(range(5),-1))\n",
    "from numpy import *\n",
    "print(sum(range(5),-1))\n",
    " ```"
   ]
  },
  {
   "cell_type": "code",
   "execution_count": 31,
   "metadata": {},
   "outputs": [
    {
     "name": "stdout",
     "output_type": "stream",
     "text": [
      "9\n"
     ]
    }
   ],
   "source": [
    "print(sum(range(5),-1))"
   ]
  },
  {
   "cell_type": "code",
   "execution_count": 32,
   "metadata": {},
   "outputs": [
    {
     "name": "stdout",
     "output_type": "stream",
     "text": [
      "10\n"
     ]
    }
   ],
   "source": [
    "from numpy import *\n",
    "print(np.sum(range(5),-1))"
   ]
  },
  {
   "cell_type": "markdown",
   "metadata": {},
   "source": [
    "### 27.下面哪一个是合法的"
   ]
  },
  {
   "cell_type": "markdown",
   "metadata": {},
   "source": [
    "```\n",
    "Z**Z\n",
    "2 << Z >> 2\n",
    "Z <- Z\n",
    "1j*Z\n",
    "Z/1/1\n",
    "Z<Z>Z\n",
    "```"
   ]
  },
  {
   "cell_type": "code",
   "execution_count": 33,
   "metadata": {},
   "outputs": [
    {
     "name": "stdout",
     "output_type": "stream",
     "text": [
      "[ 0  1  2  3  4  5  6  7  8  9 10]\n"
     ]
    }
   ],
   "source": [
    "z=np.arange(11)\n",
    "print(z)"
   ]
  },
  {
   "cell_type": "code",
   "execution_count": 34,
   "metadata": {},
   "outputs": [
    {
     "data": {
      "text/plain": [
       "array([  0,   1,   2,   4,   8,  16,  32,  64, 128, 256, 512], dtype=int32)"
      ]
     },
     "execution_count": 34,
     "metadata": {},
     "output_type": "execute_result"
    }
   ],
   "source": [
    "2<<z>>2"
   ]
  },
  {
   "cell_type": "code",
   "execution_count": 35,
   "metadata": {},
   "outputs": [
    {
     "data": {
      "text/plain": [
       "array([False, False, False, False, False, False, False, False, False,\n",
       "       False, False])"
      ]
     },
     "execution_count": 35,
     "metadata": {},
     "output_type": "execute_result"
    }
   ],
   "source": [
    "z <-z"
   ]
  },
  {
   "cell_type": "code",
   "execution_count": 36,
   "metadata": {},
   "outputs": [
    {
     "data": {
      "text/plain": [
       "array([0. +0.j, 0. +1.j, 0. +2.j, 0. +3.j, 0. +4.j, 0. +5.j, 0. +6.j,\n",
       "       0. +7.j, 0. +8.j, 0. +9.j, 0.+10.j])"
      ]
     },
     "execution_count": 36,
     "metadata": {},
     "output_type": "execute_result"
    }
   ],
   "source": [
    "1j*z  #这是一个复数计算"
   ]
  },
  {
   "cell_type": "code",
   "execution_count": 37,
   "metadata": {},
   "outputs": [
    {
     "data": {
      "text/plain": [
       "array([ 0.,  1.,  2.,  3.,  4.,  5.,  6.,  7.,  8.,  9., 10.])"
      ]
     },
     "execution_count": 37,
     "metadata": {},
     "output_type": "execute_result"
    }
   ],
   "source": [
    "z/1/1"
   ]
  },
  {
   "cell_type": "code",
   "execution_count": 38,
   "metadata": {},
   "outputs": [
    {
     "ename": "ValueError",
     "evalue": "The truth value of an array with more than one element is ambiguous. Use a.any() or a.all()",
     "output_type": "error",
     "traceback": [
      "\u001b[1;31m---------------------------------------------------------------------------\u001b[0m",
      "\u001b[1;31mValueError\u001b[0m                                Traceback (most recent call last)",
      "\u001b[1;32m<ipython-input-38-25fc7bedca6c>\u001b[0m in \u001b[0;36m<module>\u001b[1;34m\u001b[0m\n\u001b[1;32m----> 1\u001b[1;33m \u001b[0mz\u001b[0m\u001b[1;33m<\u001b[0m\u001b[0mz\u001b[0m\u001b[1;33m>\u001b[0m\u001b[0mz\u001b[0m\u001b[1;33m\u001b[0m\u001b[1;33m\u001b[0m\u001b[0m\n\u001b[0m",
      "\u001b[1;31mValueError\u001b[0m: The truth value of an array with more than one element is ambiguous. Use a.any() or a.all()"
     ]
    }
   ],
   "source": [
    "z<z>z"
   ]
  },
  {
   "cell_type": "markdown",
   "metadata": {},
   "source": [
    "###  28.下面结果分别是什么"
   ]
  },
  {
   "cell_type": "markdown",
   "metadata": {},
   "source": [
    "```python\n",
    "np.array(0)/np.arry(0)\n",
    "np.array(0)//np.array(0)\n",
    "np.array([np.nan])\n",
    "```"
   ]
  },
  {
   "cell_type": "code",
   "execution_count": 39,
   "metadata": {},
   "outputs": [
    {
     "name": "stderr",
     "output_type": "stream",
     "text": [
      "C:\\Users\\Lenovo\\Anaconda3\\lib\\site-packages\\ipykernel_launcher.py:1: RuntimeWarning: invalid value encountered in true_divide\n",
      "  \"\"\"Entry point for launching an IPython kernel.\n"
     ]
    },
    {
     "data": {
      "text/plain": [
       "nan"
      ]
     },
     "execution_count": 39,
     "metadata": {},
     "output_type": "execute_result"
    }
   ],
   "source": [
    "np.array(0) / np.array(0)"
   ]
  },
  {
   "cell_type": "code",
   "execution_count": 40,
   "metadata": {},
   "outputs": [
    {
     "name": "stderr",
     "output_type": "stream",
     "text": [
      "C:\\Users\\Lenovo\\Anaconda3\\lib\\site-packages\\ipykernel_launcher.py:1: RuntimeWarning: divide by zero encountered in floor_divide\n",
      "  \"\"\"Entry point for launching an IPython kernel.\n"
     ]
    },
    {
     "data": {
      "text/plain": [
       "0"
      ]
     },
     "execution_count": 40,
     "metadata": {},
     "output_type": "execute_result"
    }
   ],
   "source": [
    "np.array(0) // np.array(0)  #//整除"
   ]
  },
  {
   "cell_type": "code",
   "execution_count": 43,
   "metadata": {},
   "outputs": [
    {
     "data": {
      "text/plain": [
       "array([-2.14748365e+09])"
      ]
     },
     "execution_count": 43,
     "metadata": {},
     "output_type": "execute_result"
    }
   ],
   "source": [
    "np.array([np.nan]).astype(int).astype(float)"
   ]
  },
  {
   "cell_type": "markdown",
   "metadata": {},
   "source": [
    "### 29.如何找到两个数组的共同元素"
   ]
  },
  {
   "cell_type": "code",
   "execution_count": 46,
   "metadata": {},
   "outputs": [
    {
     "name": "stdout",
     "output_type": "stream",
     "text": [
      "randint(low, high=None, size=None, dtype='l')\n",
      "\n",
      "Return random integers from `low` (inclusive) to `high` (exclusive).\n",
      "\n",
      "Return random integers from the \"discrete uniform\" distribution of\n",
      "the specified dtype in the \"half-open\" interval [`low`, `high`). If\n",
      "`high` is None (the default), then results are from [0, `low`).\n",
      "\n",
      "Parameters\n",
      "----------\n",
      "low : int\n",
      "    Lowest (signed) integer to be drawn from the distribution (unless\n",
      "    ``high=None``, in which case this parameter is one above the\n",
      "    *highest* such integer).\n",
      "high : int, optional\n",
      "    If provided, one above the largest (signed) integer to be drawn\n",
      "    from the distribution (see above for behavior if ``high=None``).\n",
      "size : int or tuple of ints, optional\n",
      "    Output shape.  If the given shape is, e.g., ``(m, n, k)``, then\n",
      "    ``m * n * k`` samples are drawn.  Default is None, in which case a\n",
      "    single value is returned.\n",
      "dtype : dtype, optional\n",
      "    Desired dtype of the result. All dtypes are determined by their\n",
      "    name, i.e., 'int64', 'int', etc, so byteorder is not available\n",
      "    and a specific precision may have different C types depending\n",
      "    on the platform. The default value is 'np.int'.\n",
      "\n",
      "    .. versionadded:: 1.11.0\n",
      "\n",
      "Returns\n",
      "-------\n",
      "out : int or ndarray of ints\n",
      "    `size`-shaped array of random integers from the appropriate\n",
      "    distribution, or a single such random int if `size` not provided.\n",
      "\n",
      "See Also\n",
      "--------\n",
      "random.random_integers : similar to `randint`, only for the closed\n",
      "    interval [`low`, `high`], and 1 is the lowest value if `high` is\n",
      "    omitted. In particular, this other one is the one to use to generate\n",
      "    uniformly distributed discrete non-integers.\n",
      "\n",
      "Examples\n",
      "--------\n",
      ">>> np.random.randint(2, size=10)\n",
      "array([1, 0, 0, 0, 1, 1, 0, 0, 1, 0])\n",
      ">>> np.random.randint(1, size=10)\n",
      "array([0, 0, 0, 0, 0, 0, 0, 0, 0, 0])\n",
      "\n",
      "Generate a 2 x 4 array of ints between 0 and 4, inclusive:\n",
      "\n",
      ">>> np.random.randint(5, size=(2, 4))\n",
      "array([[4, 0, 2, 1],\n",
      "       [3, 2, 2, 0]])\n"
     ]
    }
   ],
   "source": [
    "np.info(np.random.randint)"
   ]
  },
  {
   "cell_type": "code",
   "execution_count": 51,
   "metadata": {},
   "outputs": [
    {
     "name": "stdout",
     "output_type": "stream",
     "text": [
      "[0 3 4 7 8]\n"
     ]
    }
   ],
   "source": [
    "z1=np.random.randint(0,10,10)   #randint（）连续三个数字的目的是：一个是最小值，一个是最大值，另一是产生多少个这样的随机数\n",
    "z2=np.random.randint(0,10,9)\n",
    "print(np.intersect1d(z1,z2))"
   ]
  },
  {
   "cell_type": "markdown",
   "metadata": {},
   "source": [
    "### 30.如何从零位对浮点数组做舍入 （以0为中心从外扩张）"
   ]
  },
  {
   "cell_type": "code",
   "execution_count": 53,
   "metadata": {},
   "outputs": [
    {
     "name": "stdout",
     "output_type": "stream",
     "text": [
      "uniform(low=0.0, high=1.0, size=None)\n",
      "\n",
      "Draw samples from a uniform distribution.\n",
      "\n",
      "Samples are uniformly distributed over the half-open interval\n",
      "``[low, high)`` (includes low, but excludes high).  In other words,\n",
      "any value within the given interval is equally likely to be drawn\n",
      "by `uniform`.\n",
      "\n",
      "Parameters\n",
      "----------\n",
      "low : float or array_like of floats, optional\n",
      "    Lower boundary of the output interval.  All values generated will be\n",
      "    greater than or equal to low.  The default value is 0.\n",
      "high : float or array_like of floats\n",
      "    Upper boundary of the output interval.  All values generated will be\n",
      "    less than high.  The default value is 1.0.\n",
      "size : int or tuple of ints, optional\n",
      "    Output shape.  If the given shape is, e.g., ``(m, n, k)``, then\n",
      "    ``m * n * k`` samples are drawn.  If size is ``None`` (default),\n",
      "    a single value is returned if ``low`` and ``high`` are both scalars.\n",
      "    Otherwise, ``np.broadcast(low, high).size`` samples are drawn.\n",
      "\n",
      "Returns\n",
      "-------\n",
      "out : ndarray or scalar\n",
      "    Drawn samples from the parameterized uniform distribution.\n",
      "\n",
      "See Also\n",
      "--------\n",
      "randint : Discrete uniform distribution, yielding integers.\n",
      "random_integers : Discrete uniform distribution over the closed\n",
      "                  interval ``[low, high]``.\n",
      "random_sample : Floats uniformly distributed over ``[0, 1)``.\n",
      "random : Alias for `random_sample`.\n",
      "rand : Convenience function that accepts dimensions as input, e.g.,\n",
      "       ``rand(2,2)`` would generate a 2-by-2 array of floats,\n",
      "       uniformly distributed over ``[0, 1)``.\n",
      "\n",
      "Notes\n",
      "-----\n",
      "The probability density function of the uniform distribution is\n",
      "\n",
      ".. math:: p(x) = \\frac{1}{b - a}\n",
      "\n",
      "anywhere within the interval ``[a, b)``, and zero elsewhere.\n",
      "\n",
      "When ``high`` == ``low``, values of ``low`` will be returned.\n",
      "If ``high`` < ``low``, the results are officially undefined\n",
      "and may eventually raise an error, i.e. do not rely on this\n",
      "function to behave when passed arguments satisfying that\n",
      "inequality condition.\n",
      "\n",
      "Examples\n",
      "--------\n",
      "Draw samples from the distribution:\n",
      "\n",
      ">>> s = np.random.uniform(-1,0,1000)\n",
      "\n",
      "All values are within the given interval:\n",
      "\n",
      ">>> np.all(s >= -1)\n",
      "True\n",
      ">>> np.all(s < 0)\n",
      "True\n",
      "\n",
      "Display the histogram of the samples, along with the\n",
      "probability density function:\n",
      "\n",
      ">>> import matplotlib.pyplot as plt\n",
      ">>> count, bins, ignored = plt.hist(s, 15, density=True)\n",
      ">>> plt.plot(bins, np.ones_like(bins), linewidth=2, color='r')\n",
      ">>> plt.show()\n"
     ]
    }
   ],
   "source": [
    "np.info(np.random.uniform)"
   ]
  },
  {
   "cell_type": "code",
   "execution_count": 56,
   "metadata": {},
   "outputs": [
    {
     "name": "stdout",
     "output_type": "stream",
     "text": [
      "[-4.30757839  6.69825004 -9.1825824   1.95793068 -1.71453063  3.00668216\n",
      "  9.1909848   9.45586913  3.18780094 -8.92767932  2.93120105 -7.64074336\n",
      "  2.0669778  -5.90470917 -6.50477395  6.63317106  2.89118823  8.75296391\n",
      "  2.98644425 -2.9448262  -9.87659576  2.4767507  -6.68602027  0.63132453\n",
      " -5.22810382  7.57044183  5.77703671  2.37910487 -1.54407867 -7.46341356\n",
      " -7.57899848  8.58637626 -0.11120976 -4.76345202  9.27102791 -7.3291658\n",
      "  1.13303534 -5.89630386 -2.28380378  2.39034983 -3.04134391  5.12405506\n",
      "  2.12007652  2.04811262 -4.12900292  3.0552595   4.80258295  8.39662575\n",
      "  2.64806043  3.50857256 -5.91038505  8.64867122 -8.56335161 -6.93885162\n",
      "  2.73374573 -0.35655298 -8.44828326 -8.04620712  8.36566684 -8.72457975\n",
      " -7.40089534  3.74738446 -3.76372222 -9.35991366  4.78280402  5.53619552\n",
      "  1.27282767 -3.16527434 -5.52169015 -5.87496072  2.01441479  9.11946175\n",
      "  2.61792591  7.59765084  1.24468922 -8.58143761  6.38341604 -7.24109393\n",
      " -9.989116   -1.87117818  5.24980073  0.08409206  6.96422403 -4.60785239\n",
      "  3.07120234 -4.51908761 -4.35207024  6.36988687 -7.068607   -8.33100521\n",
      "  3.82990092  2.59189443 -4.90713033 -0.73220631  6.1978828  -7.67819101\n",
      "  7.71401476  4.50255666  0.93156344 -3.88455533]\n"
     ]
    }
   ],
   "source": [
    "print(np.random.uniform(-10,10,100))  #uiniform()可以产生随机的浮点数，括号的意思分别为：最低的数，最大的数，总共有几个"
   ]
  },
  {
   "cell_type": "code",
   "execution_count": 58,
   "metadata": {},
   "outputs": [
    {
     "name": "stdout",
     "output_type": "stream",
     "text": [
      "ceil(x, /, out=None, *, where=True, casting='same_kind', order='K', dtype=None, subok=True[, signature, extobj])\n",
      "\n",
      "Return the ceiling of the input, element-wise.\n",
      "\n",
      "The ceil of the scalar `x` is the smallest integer `i`, such that\n",
      "`i >= x`.  It is often denoted as :math:`\\lceil x \\rceil`.\n",
      "\n",
      "Parameters\n",
      "----------\n",
      "x : array_like\n",
      "    Input data.\n",
      "out : ndarray, None, or tuple of ndarray and None, optional\n",
      "    A location into which the result is stored. If provided, it must have\n",
      "    a shape that the inputs broadcast to. If not provided or `None`,\n",
      "    a freshly-allocated array is returned. A tuple (possible only as a\n",
      "    keyword argument) must have length equal to the number of outputs.\n",
      "where : array_like, optional\n",
      "    Values of True indicate to calculate the ufunc at that position, values\n",
      "    of False indicate to leave the value in the output alone.\n",
      "**kwargs\n",
      "    For other keyword-only arguments, see the\n",
      "    :ref:`ufunc docs <ufuncs.kwargs>`.\n",
      "\n",
      "Returns\n",
      "-------\n",
      "y : ndarray or scalar\n",
      "    The ceiling of each element in `x`, with `float` dtype.\n",
      "    This is a scalar if `x` is a scalar.\n",
      "\n",
      "See Also\n",
      "--------\n",
      "floor, trunc, rint\n",
      "\n",
      "Examples\n",
      "--------\n",
      ">>> a = np.array([-1.7, -1.5, -0.2, 0.2, 1.5, 1.7, 2.0])\n",
      ">>> np.ceil(a)\n",
      "array([-1., -1., -0.,  1.,  2.,  2.,  2.])\n"
     ]
    }
   ],
   "source": [
    "np.info(np.ceil)  #返回输出的上限"
   ]
  },
  {
   "cell_type": "code",
   "execution_count": 60,
   "metadata": {},
   "outputs": [
    {
     "name": "stdout",
     "output_type": "stream",
     "text": [
      "copysign(x1, x2, /, out=None, *, where=True, casting='same_kind', order='K', dtype=None, subok=True[, signature, extobj])\n",
      "\n",
      "Change the sign of x1 to that of x2, element-wise.\n",
      "\n",
      "If both arguments are arrays or sequences, they have to be of the same\n",
      "length. If `x2` is a scalar, its sign will be copied to all elements of\n",
      "`x1`.\n",
      "\n",
      "Parameters\n",
      "----------\n",
      "x1 : array_like\n",
      "    Values to change the sign of.\n",
      "x2 : array_like\n",
      "    The sign of `x2` is copied to `x1`.\n",
      "out : ndarray, None, or tuple of ndarray and None, optional\n",
      "    A location into which the result is stored. If provided, it must have\n",
      "    a shape that the inputs broadcast to. If not provided or `None`,\n",
      "    a freshly-allocated array is returned. A tuple (possible only as a\n",
      "    keyword argument) must have length equal to the number of outputs.\n",
      "where : array_like, optional\n",
      "    Values of True indicate to calculate the ufunc at that position, values\n",
      "    of False indicate to leave the value in the output alone.\n",
      "**kwargs\n",
      "    For other keyword-only arguments, see the\n",
      "    :ref:`ufunc docs <ufuncs.kwargs>`.\n",
      "\n",
      "Returns\n",
      "-------\n",
      "out : ndarray or scalar\n",
      "    The values of `x1` with the sign of `x2`.\n",
      "    This is a scalar if both `x1` and `x2` are scalars.\n",
      "\n",
      "Examples\n",
      "--------\n",
      ">>> np.copysign(1.3, -1)\n",
      "-1.3\n",
      ">>> 1/np.copysign(0, 1)\n",
      "inf\n",
      ">>> 1/np.copysign(0, -1)\n",
      "-inf\n",
      "\n",
      ">>> np.copysign([-1, 0, 1], -1.1)\n",
      "array([-1., -0., -1.])\n",
      ">>> np.copysign([-1, 0, 1], np.arange(3)-1)\n",
      "array([-1.,  0.,  1.])\n"
     ]
    }
   ],
   "source": [
    "np.info(np.copysign)  #将x1的符号改为x2的符号"
   ]
  },
  {
   "cell_type": "code",
   "execution_count": 62,
   "metadata": {},
   "outputs": [
    {
     "name": "stdout",
     "output_type": "stream",
     "text": [
      "[  5.   3.   4.   3.   5. -10.  -1.   6.  -4.   2.  10.   6.  -2.  -9.\n",
      "  -2.   4.  -4.  -2.  -1. -10.   8.   1.  -5.   8.  -5.  -4.   5.  -8.\n",
      "  10. -10.  -2.   1.  -3.   8.  -9.  -3.  -1.   4.   1.   5.  -8.   4.\n",
      "   3.   5.  -4.   7.  -2.   6. -10.  -6.   9.   1.   1.  -2.  -1. -10.\n",
      "   3.   3.   5.   4.   3.   5.  -2.  -2.  -3.  -4.  -3.   4.  -3.  -3.\n",
      "  -2.  -3.   9.   3.   7.   7.  -6.  -6.  -7.  -4.   6.  10.  -2.   5.\n",
      "   7.   7. -10.  10.   9.   8.  -7.  -3.   7.  -9.  10.  -6.   3.  -9.\n",
      "   6.   3.]\n"
     ]
    }
   ],
   "source": [
    "z=np.random.uniform(-10,10,100)\n",
    "print(np.copysign(np.ceil(np.abs(z)),z))  #逻辑是，先变为绝对值，然后取上边界的整数，再对应的地方加负号"
   ]
  },
  {
   "cell_type": "markdown",
   "metadata": {},
   "source": [
    "### 31.忽略numpy的所有警告\n"
   ]
  },
  {
   "cell_type": "code",
   "execution_count": 64,
   "metadata": {},
   "outputs": [],
   "source": [
    "#suicide mode on \n",
    "defaults=np.seterr(all=\"ignore\")\n",
    "z = np.ones(1)/0\n",
    "    "
   ]
  },
  {
   "cell_type": "code",
   "execution_count": 68,
   "metadata": {},
   "outputs": [],
   "source": [
    "#back to sanity\n",
    "_=np.seterr(**defaults)\n",
    "z=np.ones(1) / 0"
   ]
  },
  {
   "cell_type": "code",
   "execution_count": 75,
   "metadata": {},
   "outputs": [],
   "source": [
    "#An equivalent way, with a context manager:\n",
    "with np.errstate(divide='ignore'): #除法的方面可以忽略\n",
    "    z = np.ones(1)/0"
   ]
  },
  {
   "cell_type": "markdown",
   "metadata": {},
   "source": [
    "### 32.下面的表达式正确吗"
   ]
  },
  {
   "cell_type": "code",
   "execution_count": 76,
   "metadata": {},
   "outputs": [
    {
     "data": {
      "text/plain": [
       "False"
      ]
     },
     "execution_count": 76,
     "metadata": {},
     "output_type": "execute_result"
    }
   ],
   "source": [
    "np.sqrt(-1) == np.emath.sqrt(-1)"
   ]
  },
  {
   "cell_type": "code",
   "execution_count": 77,
   "metadata": {},
   "outputs": [
    {
     "data": {
      "text/plain": [
       "1j"
      ]
     },
     "execution_count": 77,
     "metadata": {},
     "output_type": "execute_result"
    }
   ],
   "source": [
    "np.emath.sqrt(-1)  #说明这个可以将数据的大小扩展到复数域"
   ]
  },
  {
   "cell_type": "markdown",
   "metadata": {},
   "source": [
    "### 33.如何得到与2016年7月对应的日期"
   ]
  },
  {
   "cell_type": "code",
   "execution_count": 79,
   "metadata": {},
   "outputs": [
    {
     "name": "stdout",
     "output_type": "stream",
     "text": [
      "['2016-07-01' '2016-07-02' '2016-07-03' '2016-07-04' '2016-07-05'\n",
      " '2016-07-06' '2016-07-07' '2016-07-08' '2016-07-09' '2016-07-10'\n",
      " '2016-07-11' '2016-07-12' '2016-07-13' '2016-07-14' '2016-07-15'\n",
      " '2016-07-16' '2016-07-17' '2016-07-18' '2016-07-19' '2016-07-20'\n",
      " '2016-07-21' '2016-07-22' '2016-07-23' '2016-07-24' '2016-07-25'\n",
      " '2016-07-26' '2016-07-27' '2016-07-28' '2016-07-29' '2016-07-30'\n",
      " '2016-07-31' '2016-08-01' '2016-08-02' '2016-08-03' '2016-08-04'\n",
      " '2016-08-05' '2016-08-06' '2016-08-07' '2016-08-08' '2016-08-09'\n",
      " '2016-08-10' '2016-08-11' '2016-08-12' '2016-08-13' '2016-08-14'\n",
      " '2016-08-15' '2016-08-16' '2016-08-17' '2016-08-18' '2016-08-19'\n",
      " '2016-08-20' '2016-08-21' '2016-08-22' '2016-08-23' '2016-08-24'\n",
      " '2016-08-25' '2016-08-26' '2016-08-27' '2016-08-28' '2016-08-29'\n",
      " '2016-08-30' '2016-08-31' '2016-09-01' '2016-09-02' '2016-09-03'\n",
      " '2016-09-04' '2016-09-05' '2016-09-06' '2016-09-07' '2016-09-08'\n",
      " '2016-09-09' '2016-09-10' '2016-09-11' '2016-09-12' '2016-09-13'\n",
      " '2016-09-14' '2016-09-15' '2016-09-16' '2016-09-17' '2016-09-18'\n",
      " '2016-09-19' '2016-09-20' '2016-09-21' '2016-09-22' '2016-09-23'\n",
      " '2016-09-24' '2016-09-25' '2016-09-26' '2016-09-27' '2016-09-28'\n",
      " '2016-09-29' '2016-09-30' '2016-10-01' '2016-10-02' '2016-10-03'\n",
      " '2016-10-04' '2016-10-05' '2016-10-06' '2016-10-07' '2016-10-08'\n",
      " '2016-10-09' '2016-10-10' '2016-10-11' '2016-10-12' '2016-10-13'\n",
      " '2016-10-14' '2016-10-15' '2016-10-16' '2016-10-17' '2016-10-18'\n",
      " '2016-10-19' '2016-10-20' '2016-10-21' '2016-10-22' '2016-10-23'\n",
      " '2016-10-24' '2016-10-25' '2016-10-26' '2016-10-27' '2016-10-28'\n",
      " '2016-10-29' '2016-10-30' '2016-10-31' '2016-11-01' '2016-11-02'\n",
      " '2016-11-03' '2016-11-04' '2016-11-05' '2016-11-06' '2016-11-07'\n",
      " '2016-11-08' '2016-11-09' '2016-11-10' '2016-11-11' '2016-11-12'\n",
      " '2016-11-13' '2016-11-14' '2016-11-15' '2016-11-16' '2016-11-17'\n",
      " '2016-11-18' '2016-11-19' '2016-11-20' '2016-11-21' '2016-11-22'\n",
      " '2016-11-23' '2016-11-24' '2016-11-25' '2016-11-26' '2016-11-27'\n",
      " '2016-11-28' '2016-11-29' '2016-11-30' '2016-12-01' '2016-12-02'\n",
      " '2016-12-03' '2016-12-04' '2016-12-05' '2016-12-06' '2016-12-07'\n",
      " '2016-12-08' '2016-12-09' '2016-12-10' '2016-12-11' '2016-12-12'\n",
      " '2016-12-13' '2016-12-14' '2016-12-15' '2016-12-16' '2016-12-17'\n",
      " '2016-12-18' '2016-12-19' '2016-12-20' '2016-12-21' '2016-12-22'\n",
      " '2016-12-23' '2016-12-24' '2016-12-25' '2016-12-26' '2016-12-27'\n",
      " '2016-12-28' '2016-12-29' '2016-12-30' '2016-12-31' '2017-01-01'\n",
      " '2017-01-02' '2017-01-03' '2017-01-04' '2017-01-05' '2017-01-06'\n",
      " '2017-01-07' '2017-01-08' '2017-01-09' '2017-01-10' '2017-01-11'\n",
      " '2017-01-12' '2017-01-13' '2017-01-14' '2017-01-15' '2017-01-16'\n",
      " '2017-01-17' '2017-01-18' '2017-01-19' '2017-01-20' '2017-01-21'\n",
      " '2017-01-22' '2017-01-23' '2017-01-24' '2017-01-25' '2017-01-26'\n",
      " '2017-01-27' '2017-01-28' '2017-01-29' '2017-01-30' '2017-01-31'\n",
      " '2017-02-01' '2017-02-02' '2017-02-03' '2017-02-04' '2017-02-05'\n",
      " '2017-02-06' '2017-02-07' '2017-02-08' '2017-02-09' '2017-02-10'\n",
      " '2017-02-11' '2017-02-12' '2017-02-13' '2017-02-14' '2017-02-15'\n",
      " '2017-02-16' '2017-02-17' '2017-02-18' '2017-02-19' '2017-02-20'\n",
      " '2017-02-21' '2017-02-22' '2017-02-23' '2017-02-24' '2017-02-25'\n",
      " '2017-02-26' '2017-02-27' '2017-02-28' '2017-03-01' '2017-03-02'\n",
      " '2017-03-03' '2017-03-04' '2017-03-05' '2017-03-06' '2017-03-07'\n",
      " '2017-03-08' '2017-03-09' '2017-03-10' '2017-03-11' '2017-03-12'\n",
      " '2017-03-13' '2017-03-14' '2017-03-15' '2017-03-16' '2017-03-17'\n",
      " '2017-03-18' '2017-03-19' '2017-03-20' '2017-03-21' '2017-03-22'\n",
      " '2017-03-23' '2017-03-24' '2017-03-25' '2017-03-26' '2017-03-27'\n",
      " '2017-03-28' '2017-03-29' '2017-03-30' '2017-03-31' '2017-04-01'\n",
      " '2017-04-02' '2017-04-03' '2017-04-04' '2017-04-05' '2017-04-06'\n",
      " '2017-04-07' '2017-04-08' '2017-04-09' '2017-04-10' '2017-04-11'\n",
      " '2017-04-12' '2017-04-13' '2017-04-14' '2017-04-15' '2017-04-16'\n",
      " '2017-04-17' '2017-04-18' '2017-04-19' '2017-04-20' '2017-04-21'\n",
      " '2017-04-22' '2017-04-23' '2017-04-24' '2017-04-25' '2017-04-26'\n",
      " '2017-04-27' '2017-04-28' '2017-04-29' '2017-04-30' '2017-05-01'\n",
      " '2017-05-02' '2017-05-03' '2017-05-04' '2017-05-05' '2017-05-06'\n",
      " '2017-05-07' '2017-05-08' '2017-05-09' '2017-05-10' '2017-05-11'\n",
      " '2017-05-12' '2017-05-13' '2017-05-14' '2017-05-15' '2017-05-16'\n",
      " '2017-05-17' '2017-05-18' '2017-05-19' '2017-05-20' '2017-05-21'\n",
      " '2017-05-22' '2017-05-23' '2017-05-24' '2017-05-25' '2017-05-26'\n",
      " '2017-05-27' '2017-05-28' '2017-05-29' '2017-05-30' '2017-05-31'\n",
      " '2017-06-01' '2017-06-02' '2017-06-03' '2017-06-04' '2017-06-05'\n",
      " '2017-06-06' '2017-06-07' '2017-06-08' '2017-06-09' '2017-06-10'\n",
      " '2017-06-11' '2017-06-12' '2017-06-13' '2017-06-14' '2017-06-15'\n",
      " '2017-06-16' '2017-06-17' '2017-06-18' '2017-06-19' '2017-06-20'\n",
      " '2017-06-21' '2017-06-22' '2017-06-23' '2017-06-24' '2017-06-25'\n",
      " '2017-06-26' '2017-06-27' '2017-06-28' '2017-06-29' '2017-06-30'\n",
      " '2017-07-01' '2017-07-02' '2017-07-03' '2017-07-04' '2017-07-05'\n",
      " '2017-07-06' '2017-07-07' '2017-07-08' '2017-07-09' '2017-07-10'\n",
      " '2017-07-11' '2017-07-12' '2017-07-13' '2017-07-14' '2017-07-15'\n",
      " '2017-07-16' '2017-07-17' '2017-07-18' '2017-07-19' '2017-07-20'\n",
      " '2017-07-21' '2017-07-22' '2017-07-23' '2017-07-24' '2017-07-25'\n",
      " '2017-07-26' '2017-07-27' '2017-07-28' '2017-07-29' '2017-07-30'\n",
      " '2017-07-31']\n"
     ]
    }
   ],
   "source": [
    "z = np.arange('2016-07','2017-08',dtype='datetime64[D]')\n",
    "print(z)"
   ]
  },
  {
   "cell_type": "markdown",
   "metadata": {},
   "source": [
    "\n",
    "### 34.如何的到昨天，今天，明天的日期"
   ]
  },
  {
   "cell_type": "code",
   "execution_count": 84,
   "metadata": {},
   "outputs": [
    {
     "name": "stdout",
     "output_type": "stream",
     "text": [
      " datetime64()\n",
      "\n",
      "Base class for numpy scalar types.\n",
      "\n",
      "Class from which most (all?) numpy scalar types are derived.  For\n",
      "consistency, exposes the same API as `ndarray`, despite many\n",
      "consequent attributes being either \"get-only,\" or completely irrelevant.\n",
      "This is the class from which it is strongly suggested users should derive\n",
      "custom scalar types.\n",
      "\n",
      "\n",
      "Methods:\n",
      "\n",
      "  all  --  Not implemented (virtual attribute)\n",
      "  any  --  Not implemented (virtual attribute)\n",
      "  argmax  --  Not implemented (virtual attribute)\n",
      "  argmin  --  Not implemented (virtual attribute)\n",
      "  argsort  --  Not implemented (virtual attribute)\n",
      "  astype  --  Not implemented (virtual attribute)\n",
      "  byteswap  --  Not implemented (virtual attribute)\n",
      "  choose  --  Not implemented (virtual attribute)\n",
      "  clip  --  Not implemented (virtual attribute)\n",
      "  compress  --  Not implemented (virtual attribute)\n",
      "  conj  --  None\n",
      "  conjugate  --  Not implemented (virtual attribute)\n",
      "  copy  --  Not implemented (virtual attribute)\n",
      "  cumprod  --  Not implemented (virtual attribute)\n",
      "  cumsum  --  Not implemented (virtual attribute)\n",
      "  diagonal  --  Not implemented (virtual attribute)\n",
      "  dump  --  Not implemented (virtual attribute)\n",
      "  dumps  --  Not implemented (virtual attribute)\n",
      "  fill  --  Not implemented (virtual attribute)\n",
      "  flatten  --  Not implemented (virtual attribute)\n",
      "  getfield  --  Not implemented (virtual attribute)\n",
      "  item  --  Not implemented (virtual attribute)\n",
      "  itemset  --  Not implemented (virtual attribute)\n",
      "  max  --  Not implemented (virtual attribute)\n",
      "  mean  --  Not implemented (virtual attribute)\n",
      "  min  --  Not implemented (virtual attribute)\n",
      "  newbyteorder  --  newbyteorder(new_order='S')\n",
      "  nonzero  --  Not implemented (virtual attribute)\n",
      "  prod  --  Not implemented (virtual attribute)\n",
      "  ptp  --  Not implemented (virtual attribute)\n",
      "  put  --  Not implemented (virtual attribute)\n",
      "  ravel  --  Not implemented (virtual attribute)\n",
      "  repeat  --  Not implemented (virtual attribute)\n",
      "  reshape  --  Not implemented (virtual attribute)\n",
      "  resize  --  Not implemented (virtual attribute)\n",
      "  round  --  Not implemented (virtual attribute)\n",
      "  searchsorted  --  Not implemented (virtual attribute)\n",
      "  setfield  --  Not implemented (virtual attribute)\n",
      "  setflags  --  Not implemented (virtual attribute)\n",
      "  sort  --  Not implemented (virtual attribute)\n",
      "  squeeze  --  Not implemented (virtual attribute)\n",
      "  std  --  Not implemented (virtual attribute)\n",
      "  sum  --  Not implemented (virtual attribute)\n",
      "  swapaxes  --  Not implemented (virtual attribute)\n",
      "  take  --  Not implemented (virtual attribute)\n",
      "  tobytes  --  None\n",
      "  tofile  --  Not implemented (virtual attribute)\n",
      "  tolist  --  Not implemented (virtual attribute)\n",
      "  tostring  --  Not implemented (virtual attribute)\n",
      "  trace  --  Not implemented (virtual attribute)\n",
      "  transpose  --  Not implemented (virtual attribute)\n",
      "  var  --  Not implemented (virtual attribute)\n",
      "  view  --  Not implemented (virtual attribute)\n"
     ]
    }
   ],
   "source": [
    "np.info(np.datetime64)"
   ]
  },
  {
   "cell_type": "code",
   "execution_count": 101,
   "metadata": {},
   "outputs": [
    {
     "name": "stdout",
     "output_type": "stream",
     "text": [
      "今天2019-06-23\n",
      "昨天 2019-06-22\n",
      "明天 2019-06-24\n"
     ]
    },
    {
     "data": {
      "text/plain": [
       "\"\\nD，Y,M是显示的日，年，月的简写\\ntimedelta是显示出了这个日子，如上面的写的就是一天（1，'Y'）就是一个月\\n\\n\""
      ]
     },
     "execution_count": 101,
     "metadata": {},
     "output_type": "execute_result"
    }
   ],
   "source": [
    "today=np.datetime64('today','D')\n",
    "yesterday = today - np.timedelta64(1,'D')\n",
    "tomorrow = today + np.timedelta64(1,'D')\n",
    "print(\"今天\"+str(np.datetime64('today','D')))\n",
    "print(\"昨天\"+\" \"+str(yesterday))\n",
    "print(\"明天\"+\" \"+str(tomorrow))\n",
    "\"\"\"\n",
    "D，Y,M是显示的日，年，月的简写\n",
    "timedelta是显示出了这个日子，如上面的写的就是一天（1，'Y'）就是一个月\n",
    "\n",
    "\"\"\""
   ]
  },
  {
   "cell_type": "markdown",
   "metadata": {},
   "source": [
    "###  35.如何直接在位计算(A+B)\\*(-A/2)"
   ]
  },
  {
   "cell_type": "code",
   "execution_count": 146,
   "metadata": {},
   "outputs": [
    {
     "name": "stdout",
     "output_type": "stream",
     "text": [
      "add(x1, x2, /, out=None, *, where=True, casting='same_kind', order='K', dtype=None, subok=True[, signature, extobj])\n",
      "\n",
      "Add arguments element-wise.\n",
      "\n",
      "Parameters\n",
      "----------\n",
      "x1, x2 : array_like\n",
      "    The arrays to be added.  If ``x1.shape != x2.shape``, they must be\n",
      "    broadcastable to a common shape (which may be the shape of one or\n",
      "    the other).\n",
      "out : ndarray, None, or tuple of ndarray and None, optional\n",
      "    A location into which the result is stored. If provided, it must have\n",
      "    a shape that the inputs broadcast to. If not provided or `None`,\n",
      "    a freshly-allocated array is returned. A tuple (possible only as a\n",
      "    keyword argument) must have length equal to the number of outputs.\n",
      "where : array_like, optional\n",
      "    Values of True indicate to calculate the ufunc at that position, values\n",
      "    of False indicate to leave the value in the output alone.\n",
      "**kwargs\n",
      "    For other keyword-only arguments, see the\n",
      "    :ref:`ufunc docs <ufuncs.kwargs>`.\n",
      "\n",
      "Returns\n",
      "-------\n",
      "add : ndarray or scalar\n",
      "    The sum of `x1` and `x2`, element-wise.\n",
      "    This is a scalar if both `x1` and `x2` are scalars.\n",
      "\n",
      "Notes\n",
      "-----\n",
      "Equivalent to `x1` + `x2` in terms of array broadcasting.\n",
      "\n",
      "Examples\n",
      "--------\n",
      ">>> np.add(1.0, 4.0)\n",
      "5.0\n",
      ">>> x1 = np.arange(9.0).reshape((3, 3))\n",
      ">>> x2 = np.arange(3.0)\n",
      ">>> np.add(x1, x2)\n",
      "array([[  0.,   2.,   4.],\n",
      "       [  3.,   5.,   7.],\n",
      "       [  6.,   8.,  10.]])\n"
     ]
    }
   ],
   "source": [
    "np.info(np.add)"
   ]
  },
  {
   "cell_type": "code",
   "execution_count": 145,
   "metadata": {},
   "outputs": [
    {
     "name": "stdout",
     "output_type": "stream",
     "text": [
      "[[2. 2.]\n",
      " [2. 2.]]\n",
      "[[3. 3.]\n",
      " [3. 3.]]\n",
      "[[-5. -5.]\n",
      " [-5. -5.]]\n"
     ]
    },
    {
     "data": {
      "text/plain": [
       "'\\n注意两点：1.如果是直接的维度不相同的运算，只要保证列数相同，那么add，divide以及multiply的运算都可以完成\\n2.如果是运用out的输出，你输出的那个矩阵是和运算结果维度相同\\n'"
      ]
     },
     "execution_count": 145,
     "metadata": {},
     "output_type": "execute_result"
    }
   ],
   "source": [
    "a = ones(4).reshape((2,2))*2\n",
    "print(a)\n",
    "b=np.ones(4).reshape((2,2))*3\n",
    "print(b)\n",
    "np.add(a,b,out=b)\n",
    "np.divide(a,2,out=a)\n",
    "np.negative(a,out=a)\n",
    "np.multiply(a,b,out=a)\n",
    "print(a)\n",
    "\"\"\"\n",
    "注意两点：1.如果是直接的维度不相同的运算，只要保证列数相同，那么add，divide以及multiply的运算都可以完成\n",
    "2.如果是运用out的输出，你输出的那个矩阵是和运算结果维度相同\n",
    "\"\"\""
   ]
  },
  {
   "cell_type": "markdown",
   "metadata": {},
   "source": [
    "###  36.用五种不同的方法去提取一个随机数组的整数部分"
   ]
  },
  {
   "cell_type": "code",
   "execution_count": 150,
   "metadata": {},
   "outputs": [
    {
     "name": "stdout",
     "output_type": "stream",
     "text": [
      "<module 'numpy' from 'C:\\\\Users\\\\Lenovo\\\\Anaconda3\\\\lib\\\\site-packages\\\\numpy\\\\__init__.py'> [0. 9. 3. 4. 3. 3. 4. 5. 6. 7. 5. 4. 2. 6. 8. 8. 8. 8. 9.]\n"
     ]
    }
   ],
   "source": [
    "z = np.random.uniform(0,10,19)\n",
    "print(np,ceil(z)-1)   #ceil是向上取整"
   ]
  },
  {
   "cell_type": "code",
   "execution_count": 153,
   "metadata": {},
   "outputs": [
    {
     "name": "stdout",
     "output_type": "stream",
     "text": [
      "[0. 9. 3. 4. 3. 3. 4. 5. 6. 7. 5. 4. 2. 6. 8. 8. 8. 8. 9.]\n"
     ]
    }
   ],
   "source": [
    "print(np.floor(z)) #floor是向下取整"
   ]
  },
  {
   "cell_type": "code",
   "execution_count": 154,
   "metadata": {},
   "outputs": [
    {
     "name": "stdout",
     "output_type": "stream",
     "text": [
      "[0 9 3 4 3 3 4 5 6 7 5 4 2 6 8 8 8 8 9]\n"
     ]
    }
   ],
   "source": [
    "print(z.astype(int))"
   ]
  },
  {
   "cell_type": "code",
   "execution_count": 155,
   "metadata": {},
   "outputs": [
    {
     "name": "stdout",
     "output_type": "stream",
     "text": [
      "trunc(x, /, out=None, *, where=True, casting='same_kind', order='K', dtype=None, subok=True[, signature, extobj])\n",
      "\n",
      "Return the truncated value of the input, element-wise.\n",
      "\n",
      "The truncated value of the scalar `x` is the nearest integer `i` which\n",
      "is closer to zero than `x` is. In short, the fractional part of the\n",
      "signed number `x` is discarded.\n",
      "\n",
      "Parameters\n",
      "----------\n",
      "x : array_like\n",
      "    Input data.\n",
      "out : ndarray, None, or tuple of ndarray and None, optional\n",
      "    A location into which the result is stored. If provided, it must have\n",
      "    a shape that the inputs broadcast to. If not provided or `None`,\n",
      "    a freshly-allocated array is returned. A tuple (possible only as a\n",
      "    keyword argument) must have length equal to the number of outputs.\n",
      "where : array_like, optional\n",
      "    Values of True indicate to calculate the ufunc at that position, values\n",
      "    of False indicate to leave the value in the output alone.\n",
      "**kwargs\n",
      "    For other keyword-only arguments, see the\n",
      "    :ref:`ufunc docs <ufuncs.kwargs>`.\n",
      "\n",
      "Returns\n",
      "-------\n",
      "y : ndarray or scalar\n",
      "    The truncated value of each element in `x`.\n",
      "    This is a scalar if `x` is a scalar.\n",
      "\n",
      "See Also\n",
      "--------\n",
      "ceil, floor, rint\n",
      "\n",
      "Notes\n",
      "-----\n",
      ".. versionadded:: 1.3.0\n",
      "\n",
      "Examples\n",
      "--------\n",
      ">>> a = np.array([-1.7, -1.5, -0.2, 0.2, 1.5, 1.7, 2.0])\n",
      ">>> np.trunc(a)\n",
      "array([-1., -1., -0.,  0.,  1.,  1.,  2.])\n"
     ]
    }
   ],
   "source": [
    "np.info(np.trunc)"
   ]
  },
  {
   "cell_type": "code",
   "execution_count": 157,
   "metadata": {},
   "outputs": [
    {
     "name": "stdout",
     "output_type": "stream",
     "text": [
      "[0. 9. 3. 4. 3. 3. 4. 5. 6. 7. 5. 4. 2. 6. 8. 8. 8. 8. 9.]\n"
     ]
    }
   ],
   "source": [
    "print(np.trunc(z))   #将数的小数部分切去"
   ]
  },
  {
   "cell_type": "code",
   "execution_count": 159,
   "metadata": {},
   "outputs": [
    {
     "name": "stdout",
     "output_type": "stream",
     "text": [
      "[0. 9. 3. 4. 3. 3. 4. 5. 6. 7. 5. 4. 2. 6. 8. 8. 8. 8. 9.]\n"
     ]
    }
   ],
   "source": [
    "print(z-z%1)    #逻辑在于小数点的余数是小数部分，所以减去就是整数。"
   ]
  },
  {
   "cell_type": "markdown",
   "metadata": {},
   "source": [
    "### 37.创建一个5\\*5的矩阵，其中每行的范围是0~4"
   ]
  },
  {
   "cell_type": "code",
   "execution_count": 162,
   "metadata": {},
   "outputs": [
    {
     "name": "stdout",
     "output_type": "stream",
     "text": [
      "[[0. 1. 2. 3. 4.]\n",
      " [0. 1. 2. 3. 4.]\n",
      " [0. 1. 2. 3. 4.]\n",
      " [0. 1. 2. 3. 4.]\n",
      " [0. 1. 2. 3. 4.]]\n"
     ]
    }
   ],
   "source": [
    "z = np.zeros((5,5))\n",
    "a = np.arange(5)\n",
    "z=np.add(z,a)\n",
    "print(z)"
   ]
  },
  {
   "cell_type": "markdown",
   "metadata": {},
   "source": [
    "### 38.考虑通过生产函数，生产10个int的数组"
   ]
  },
  {
   "cell_type": "code",
   "execution_count": 163,
   "metadata": {},
   "outputs": [
    {
     "name": "stdout",
     "output_type": "stream",
     "text": [
      "fromiter(iterable, dtype, count=-1)\n",
      "\n",
      "Create a new 1-dimensional array from an iterable object.\n",
      "\n",
      "Parameters\n",
      "----------\n",
      "iterable : iterable object\n",
      "    An iterable object providing data for the array.\n",
      "dtype : data-type\n",
      "    The data-type of the returned array.\n",
      "count : int, optional\n",
      "    The number of items to read from *iterable*.  The default is -1,\n",
      "    which means all data is read.\n",
      "\n",
      "Returns\n",
      "-------\n",
      "out : ndarray\n",
      "    The output array.\n",
      "\n",
      "Notes\n",
      "-----\n",
      "Specify `count` to improve performance.  It allows ``fromiter`` to\n",
      "pre-allocate the output array, instead of resizing it on demand.\n",
      "\n",
      "Examples\n",
      "--------\n",
      ">>> iterable = (x*x for x in range(5))\n",
      ">>> np.fromiter(iterable, float)\n",
      "array([  0.,   1.,   4.,   9.,  16.])\n"
     ]
    }
   ],
   "source": [
    "np.info(np.fromiter)"
   ]
  },
  {
   "cell_type": "code",
   "execution_count": 166,
   "metadata": {},
   "outputs": [
    {
     "name": "stdout",
     "output_type": "stream",
     "text": [
      "[0. 1. 2. 3. 4. 5. 6. 7. 8. 9.]\n"
     ]
    }
   ],
   "source": [
    "def generate():\n",
    "    for i in range(10):\n",
    "        yield i    #https://www.ibm.com/developerworks/cn/opensource/os-cn-python-yield/index.html\n",
    "z=np.fromiter(generate(),dtype=float,count=-1)\n",
    "print(z)"
   ]
  },
  {
   "cell_type": "markdown",
   "metadata": {},
   "source": [
    "### 39.创建一个长度为10的随机向量，其值范围是0~1，但是不包括0和1"
   ]
  },
  {
   "cell_type": "code",
   "execution_count": 167,
   "metadata": {},
   "outputs": [
    {
     "name": "stdout",
     "output_type": "stream",
     "text": [
      " linspace(start, stop, num=50, endpoint=True, retstep=False, dtype=None,\n",
      "          axis=0)\n",
      "\n",
      "Return evenly spaced numbers over a specified interval.\n",
      "\n",
      "Returns `num` evenly spaced samples, calculated over the\n",
      "interval [`start`, `stop`].\n",
      "\n",
      "The endpoint of the interval can optionally be excluded.\n",
      "\n",
      ".. versionchanged:: 1.16.0\n",
      "    Non-scalar `start` and `stop` are now supported.\n",
      "\n",
      "Parameters\n",
      "----------\n",
      "start : array_like\n",
      "    The starting value of the sequence.\n",
      "stop : array_like\n",
      "    The end value of the sequence, unless `endpoint` is set to False.\n",
      "    In that case, the sequence consists of all but the last of ``num + 1``\n",
      "    evenly spaced samples, so that `stop` is excluded.  Note that the step\n",
      "    size changes when `endpoint` is False.\n",
      "num : int, optional\n",
      "    Number of samples to generate. Default is 50. Must be non-negative.\n",
      "endpoint : bool, optional\n",
      "    If True, `stop` is the last sample. Otherwise, it is not included.\n",
      "    Default is True.\n",
      "retstep : bool, optional\n",
      "    If True, return (`samples`, `step`), where `step` is the spacing\n",
      "    between samples.\n",
      "dtype : dtype, optional\n",
      "    The type of the output array.  If `dtype` is not given, infer the data\n",
      "    type from the other input arguments.\n",
      "\n",
      "    .. versionadded:: 1.9.0\n",
      "\n",
      "axis : int, optional\n",
      "    The axis in the result to store the samples.  Relevant only if start\n",
      "    or stop are array-like.  By default (0), the samples will be along a\n",
      "    new axis inserted at the beginning. Use -1 to get an axis at the end.\n",
      "\n",
      "    .. versionadded:: 1.16.0\n",
      "\n",
      "Returns\n",
      "-------\n",
      "samples : ndarray\n",
      "    There are `num` equally spaced samples in the closed interval\n",
      "    ``[start, stop]`` or the half-open interval ``[start, stop)``\n",
      "    (depending on whether `endpoint` is True or False).\n",
      "step : float, optional\n",
      "    Only returned if `retstep` is True\n",
      "\n",
      "    Size of spacing between samples.\n",
      "\n",
      "\n",
      "See Also\n",
      "--------\n",
      "arange : Similar to `linspace`, but uses a step size (instead of the\n",
      "         number of samples).\n",
      "geomspace : Similar to `linspace`, but with numbers spaced evenly on a log\n",
      "            scale (a geometric progression).\n",
      "logspace : Similar to `geomspace`, but with the end points specified as\n",
      "           logarithms.\n",
      "\n",
      "Examples\n",
      "--------\n",
      ">>> np.linspace(2.0, 3.0, num=5)\n",
      "array([ 2.  ,  2.25,  2.5 ,  2.75,  3.  ])\n",
      ">>> np.linspace(2.0, 3.0, num=5, endpoint=False)\n",
      "array([ 2. ,  2.2,  2.4,  2.6,  2.8])\n",
      ">>> np.linspace(2.0, 3.0, num=5, retstep=True)\n",
      "(array([ 2.  ,  2.25,  2.5 ,  2.75,  3.  ]), 0.25)\n",
      "\n",
      "Graphical illustration:\n",
      "\n",
      ">>> import matplotlib.pyplot as plt\n",
      ">>> N = 8\n",
      ">>> y = np.zeros(N)\n",
      ">>> x1 = np.linspace(0, 10, N, endpoint=True)\n",
      ">>> x2 = np.linspace(0, 10, N, endpoint=False)\n",
      ">>> plt.plot(x1, y, 'o')\n",
      "[<matplotlib.lines.Line2D object at 0x...>]\n",
      ">>> plt.plot(x2, y + 0.5, 'o')\n",
      "[<matplotlib.lines.Line2D object at 0x...>]\n",
      ">>> plt.ylim([-0.5, 1])\n",
      "(-0.5, 1)\n",
      ">>> plt.show()\n"
     ]
    }
   ],
   "source": [
    "np.info(np.linspace)"
   ]
  },
  {
   "cell_type": "code",
   "execution_count": 171,
   "metadata": {},
   "outputs": [
    {
     "name": "stdout",
     "output_type": "stream",
     "text": [
      "True\n",
      "[0.09090909 0.18181818 0.27272727 0.36363636 0.45454545 0.54545455\n",
      " 0.63636364 0.72727273 0.81818182 0.90909091]\n"
     ]
    }
   ],
   "source": [
    "z  = np.linspace(0,1,11,endpoint=False)[1:] #linspace不能算是真的随机，它的区间是评价的\n",
    "print((z[4]-z[3])==(z[8]-z[7]))\n",
    "print(z)"
   ]
  },
  {
   "cell_type": "code",
   "execution_count": 173,
   "metadata": {},
   "outputs": [
    {
     "name": "stdout",
     "output_type": "stream",
     "text": [
      "[0.96823777 0.93877655 0.75100752 0.81343396 0.72466366 0.59505106\n",
      " 0.50347825 0.06564359 0.38056624 0.92216958]\n"
     ]
    }
   ],
   "source": [
    "#方法二\n",
    "z = np.random.uniform(0,1,10)   \n",
    "print(z)"
   ]
  },
  {
   "cell_type": "markdown",
   "metadata": {},
   "source": [
    "### 40.创建一个长度为10的随机向量，并将其排序"
   ]
  },
  {
   "cell_type": "code",
   "execution_count": 178,
   "metadata": {},
   "outputs": [
    {
     "name": "stdout",
     "output_type": "stream",
     "text": [
      "[ 79.88115187  94.23284178 117.53832209 127.57658739 151.59593651\n",
      " 170.62233243 175.5858285  234.2893042  254.15941973 269.93383711]\n"
     ]
    }
   ],
   "source": [
    "z = np.random.uniform(1,299,10)\n",
    "z.sort()\n",
    "print(z)"
   ]
  },
  {
   "cell_type": "markdown",
   "metadata": {},
   "source": [
    "### 41.对于小数组，如何用np.sum()更快的方法对其求和"
   ]
  },
  {
   "cell_type": "code",
   "execution_count": 179,
   "metadata": {},
   "outputs": [
    {
     "name": "stdout",
     "output_type": "stream",
     "text": [
      "reduce(a, axis=0, dtype=None, out=None, keepdims=False, initial)\n",
      "\n",
      "Reduces `a`'s dimension by one, by applying ufunc along one axis.\n",
      "\n",
      "Let :math:`a.shape = (N_0, ..., N_i, ..., N_{M-1})`.  Then\n",
      ":math:`ufunc.reduce(a, axis=i)[k_0, ..,k_{i-1}, k_{i+1}, .., k_{M-1}]` =\n",
      "the result of iterating `j` over :math:`range(N_i)`, cumulatively applying\n",
      "ufunc to each :math:`a[k_0, ..,k_{i-1}, j, k_{i+1}, .., k_{M-1}]`.\n",
      "For a one-dimensional array, reduce produces results equivalent to:\n",
      "::\n",
      "\n",
      " r = op.identity # op = ufunc\n",
      " for i in range(len(A)):\n",
      "   r = op(r, A[i])\n",
      " return r\n",
      "\n",
      "For example, add.reduce() is equivalent to sum().\n",
      "\n",
      "Parameters\n",
      "----------\n",
      "a : array_like\n",
      "    The array to act on.\n",
      "axis : None or int or tuple of ints, optional\n",
      "    Axis or axes along which a reduction is performed.\n",
      "    The default (`axis` = 0) is perform a reduction over the first\n",
      "    dimension of the input array. `axis` may be negative, in\n",
      "    which case it counts from the last to the first axis.\n",
      "\n",
      "    .. versionadded:: 1.7.0\n",
      "\n",
      "    If this is `None`, a reduction is performed over all the axes.\n",
      "    If this is a tuple of ints, a reduction is performed on multiple\n",
      "    axes, instead of a single axis or all the axes as before.\n",
      "\n",
      "    For operations which are either not commutative or not associative,\n",
      "    doing a reduction over multiple axes is not well-defined. The\n",
      "    ufuncs do not currently raise an exception in this case, but will\n",
      "    likely do so in the future.\n",
      "dtype : data-type code, optional\n",
      "    The type used to represent the intermediate results. Defaults\n",
      "    to the data-type of the output array if this is provided, or\n",
      "    the data-type of the input array if no output array is provided.\n",
      "out : ndarray, None, or tuple of ndarray and None, optional\n",
      "    A location into which the result is stored. If not provided or `None`,\n",
      "    a freshly-allocated array is returned. For consistency with\n",
      "    :ref:`ufunc.__call__`, if given as a keyword, this may be wrapped in a\n",
      "    1-element tuple.\n",
      "\n",
      "    .. versionchanged:: 1.13.0\n",
      "       Tuples are allowed for keyword argument.\n",
      "keepdims : bool, optional\n",
      "    If this is set to True, the axes which are reduced are left\n",
      "    in the result as dimensions with size one. With this option,\n",
      "    the result will broadcast correctly against the original `arr`.\n",
      "\n",
      "    .. versionadded:: 1.7.0\n",
      "initial : scalar, optional\n",
      "    The value with which to start the reduction.\n",
      "    If the ufunc has no identity or the dtype is object, this defaults\n",
      "    to None - otherwise it defaults to ufunc.identity.\n",
      "    If ``None`` is given, the first element of the reduction is used,\n",
      "    and an error is thrown if the reduction is empty.\n",
      "\n",
      "    .. versionadded:: 1.15.0\n",
      "\n",
      "Returns\n",
      "-------\n",
      "r : ndarray\n",
      "    The reduced array. If `out` was supplied, `r` is a reference to it.\n",
      "\n",
      "Examples\n",
      "--------\n",
      ">>> np.multiply.reduce([2,3,5])\n",
      "30\n",
      "\n",
      "A multi-dimensional array example:\n",
      "\n",
      ">>> X = np.arange(8).reshape((2,2,2))\n",
      ">>> X\n",
      "array([[[0, 1],\n",
      "        [2, 3]],\n",
      "       [[4, 5],\n",
      "        [6, 7]]])\n",
      ">>> np.add.reduce(X, 0)\n",
      "array([[ 4,  6],\n",
      "       [ 8, 10]])\n",
      ">>> np.add.reduce(X) # confirm: default axis value is 0\n",
      "array([[ 4,  6],\n",
      "       [ 8, 10]])\n",
      ">>> np.add.reduce(X, 1)\n",
      "array([[ 2,  4],\n",
      "       [10, 12]])\n",
      ">>> np.add.reduce(X, 2)\n",
      "array([[ 1,  5],\n",
      "       [ 9, 13]])\n",
      "\n",
      "You can use the ``initial`` keyword argument to initialize the reduction with a\n",
      "different value.\n",
      "\n",
      ">>> np.add.reduce([10], initial=5)\n",
      "15\n",
      ">>> np.add.reduce(np.ones((2, 2, 2)), axis=(0, 2), initializer=10)\n",
      "array([14., 14.])\n",
      "\n",
      "Allows reductions of empty arrays where they would normally fail, i.e.\n",
      "for ufuncs without an identity.\n",
      "\n",
      ">>> np.minimum.reduce([], initial=np.inf)\n",
      "inf\n",
      ">>> np.minimum.reduce([])\n",
      "Traceback (most recent call last):\n",
      "    ...\n",
      "ValueError: zero-size array to reduction operation minimum which has no identity\n"
     ]
    }
   ],
   "source": [
    "np.info(np.add.reduce)"
   ]
  },
  {
   "cell_type": "markdown",
   "metadata": {},
   "source": [
    "使用np.add.reduce。和np.add()比起来两者的性能似乎完全不同：对于相对较小的阵列大小，add.reduce大约快两倍。"
   ]
  },
  {
   "cell_type": "code",
   "execution_count": 180,
   "metadata": {},
   "outputs": [
    {
     "name": "stdout",
     "output_type": "stream",
     "text": [
      "45\n"
     ]
    }
   ],
   "source": [
    "z = np.arange(10)\n",
    "print(np.add.reduce(z))\n"
   ]
  },
  {
   "cell_type": "markdown",
   "metadata": {},
   "source": [
    "### 42.对于两个随机的数组，检查他们是否相等"
   ]
  },
  {
   "cell_type": "code",
   "execution_count": 181,
   "metadata": {},
   "outputs": [
    {
     "name": "stdout",
     "output_type": "stream",
     "text": [
      " allclose(a, b, rtol=1e-05, atol=1e-08, equal_nan=False)\n",
      "\n",
      "Returns True if two arrays are element-wise equal within a tolerance.\n",
      "\n",
      "The tolerance values are positive, typically very small numbers.  The\n",
      "relative difference (`rtol` * abs(`b`)) and the absolute difference\n",
      "`atol` are added together to compare against the absolute difference\n",
      "between `a` and `b`.\n",
      "\n",
      "If either array contains one or more NaNs, False is returned.\n",
      "Infs are treated as equal if they are in the same place and of the same\n",
      "sign in both arrays.\n",
      "\n",
      "Parameters\n",
      "----------\n",
      "a, b : array_like\n",
      "    Input arrays to compare.\n",
      "rtol : float\n",
      "    The relative tolerance parameter (see Notes).\n",
      "atol : float\n",
      "    The absolute tolerance parameter (see Notes).\n",
      "equal_nan : bool\n",
      "    Whether to compare NaN's as equal.  If True, NaN's in `a` will be\n",
      "    considered equal to NaN's in `b` in the output array.\n",
      "\n",
      "    .. versionadded:: 1.10.0\n",
      "\n",
      "Returns\n",
      "-------\n",
      "allclose : bool\n",
      "    Returns True if the two arrays are equal within the given\n",
      "    tolerance; False otherwise.\n",
      "\n",
      "See Also\n",
      "--------\n",
      "isclose, all, any, equal\n",
      "\n",
      "Notes\n",
      "-----\n",
      "If the following equation is element-wise True, then allclose returns\n",
      "True.\n",
      "\n",
      " absolute(`a` - `b`) <= (`atol` + `rtol` * absolute(`b`))\n",
      "\n",
      "The above equation is not symmetric in `a` and `b`, so that\n",
      "``allclose(a, b)`` might be different from ``allclose(b, a)`` in\n",
      "some rare cases.\n",
      "\n",
      "The comparison of `a` and `b` uses standard broadcasting, which\n",
      "means that `a` and `b` need not have the same shape in order for\n",
      "``allclose(a, b)`` to evaluate to True.  The same is true for\n",
      "`equal` but not `array_equal`.\n",
      "\n",
      "Examples\n",
      "--------\n",
      ">>> np.allclose([1e10,1e-7], [1.00001e10,1e-8])\n",
      "False\n",
      ">>> np.allclose([1e10,1e-8], [1.00001e10,1e-9])\n",
      "True\n",
      ">>> np.allclose([1e10,1e-8], [1.0001e10,1e-9])\n",
      "False\n",
      ">>> np.allclose([1.0, np.nan], [1.0, np.nan])\n",
      "False\n",
      ">>> np.allclose([1.0, np.nan], [1.0, np.nan], equal_nan=True)\n",
      "True\n"
     ]
    }
   ],
   "source": [
    "np.info(np.allclose)"
   ]
  },
  {
   "cell_type": "code",
   "execution_count": 182,
   "metadata": {},
   "outputs": [
    {
     "name": "stdout",
     "output_type": "stream",
     "text": [
      " array_equal(a1, a2)\n",
      "\n",
      "True if two arrays have the same shape and elements, False otherwise.\n",
      "\n",
      "Parameters\n",
      "----------\n",
      "a1, a2 : array_like\n",
      "    Input arrays.\n",
      "\n",
      "Returns\n",
      "-------\n",
      "b : bool\n",
      "    Returns True if the arrays are equal.\n",
      "\n",
      "See Also\n",
      "--------\n",
      "allclose: Returns True if two arrays are element-wise equal within a\n",
      "          tolerance.\n",
      "array_equiv: Returns True if input arrays are shape consistent and all\n",
      "             elements equal.\n",
      "\n",
      "Examples\n",
      "--------\n",
      ">>> np.array_equal([1, 2], [1, 2])\n",
      "True\n",
      ">>> np.array_equal(np.array([1, 2]), np.array([1, 2]))\n",
      "True\n",
      ">>> np.array_equal([1, 2], [1, 2, 3])\n",
      "False\n",
      ">>> np.array_equal([1, 2], [1, 4])\n",
      "False\n"
     ]
    }
   ],
   "source": [
    "np.info(np.array_equal)"
   ]
  },
  {
   "cell_type": "code",
   "execution_count": 184,
   "metadata": {},
   "outputs": [
    {
     "name": "stdout",
     "output_type": "stream",
     "text": [
      "False\n",
      "False\n"
     ]
    }
   ],
   "source": [
    "a = np.random.uniform(1,10,10)\n",
    "b = np.random.uniform(1,10,10)\n",
    "print(np.array_equal(a,b))\n",
    "print((np.allclose(a,b)))"
   ]
  },
  {
   "cell_type": "markdown",
   "metadata": {},
   "source": [
    "### 43.创建一个只读数组"
   ]
  },
  {
   "cell_type": "code",
   "execution_count": 189,
   "metadata": {},
   "outputs": [],
   "source": [
    "z=ones(10).reshape((2,5))\n",
    "z.flags.writeable = False"
   ]
  },
  {
   "cell_type": "code",
   "execution_count": 190,
   "metadata": {},
   "outputs": [
    {
     "ename": "ValueError",
     "evalue": "assignment destination is read-only",
     "output_type": "error",
     "traceback": [
      "\u001b[1;31m---------------------------------------------------------------------------\u001b[0m",
      "\u001b[1;31mValueError\u001b[0m                                Traceback (most recent call last)",
      "\u001b[1;32m<ipython-input-190-8ac16ea01a7d>\u001b[0m in \u001b[0;36m<module>\u001b[1;34m\u001b[0m\n\u001b[1;32m----> 1\u001b[1;33m \u001b[0mz\u001b[0m\u001b[1;33m[\u001b[0m\u001b[1;36m0\u001b[0m\u001b[1;33m]\u001b[0m\u001b[1;33m=\u001b[0m\u001b[1;36m1\u001b[0m\u001b[1;33m\u001b[0m\u001b[1;33m\u001b[0m\u001b[0m\n\u001b[0m",
      "\u001b[1;31mValueError\u001b[0m: assignment destination is read-only"
     ]
    }
   ],
   "source": [
    "z[0]=1"
   ]
  },
  {
   "cell_type": "markdown",
   "metadata": {},
   "source": [
    "### 44.笛卡尔坐标系下的一个10\\*2的矩阵转换为极坐标系"
   ]
  },
  {
   "cell_type": "code",
   "execution_count": 194,
   "metadata": {},
   "outputs": [
    {
     "name": "stdout",
     "output_type": "stream",
     "text": [
      "[1.0574407  1.20329312 0.2076386  0.89496139 1.01047294 0.83366176\n",
      " 0.90329972 0.98709327 0.7407205  0.58964518]\n",
      "[1.1208307  0.96505929 0.81983175 0.28435031 1.35024838 1.39748686\n",
      " 0.60886802 1.18371731 0.82804943 0.99926003]\n"
     ]
    }
   ],
   "source": [
    "z = np.random.random((10,2))\n",
    "x,y  = z[:,0],z[:,1]\n",
    "r = np.sqrt(x**2+y**2)\n",
    "T = np.arctan2(y,x)\n",
    "print(r)\n",
    "print(T)"
   ]
  },
  {
   "cell_type": "markdown",
   "metadata": {},
   "source": [
    "### 45.创建一个长度为10的向量，并将向量的最大值设为1"
   ]
  },
  {
   "cell_type": "code",
   "execution_count": 195,
   "metadata": {},
   "outputs": [
    {
     "name": "stdout",
     "output_type": "stream",
     "text": [
      " argmax(a, axis=None, out=None)\n",
      "\n",
      "Returns the indices of the maximum values along an axis.\n",
      "\n",
      "Parameters\n",
      "----------\n",
      "a : array_like\n",
      "    Input array.\n",
      "axis : int, optional\n",
      "    By default, the index is into the flattened array, otherwise\n",
      "    along the specified axis.\n",
      "out : array, optional\n",
      "    If provided, the result will be inserted into this array. It should\n",
      "    be of the appropriate shape and dtype.\n",
      "\n",
      "Returns\n",
      "-------\n",
      "index_array : ndarray of ints\n",
      "    Array of indices into the array. It has the same shape as `a.shape`\n",
      "    with the dimension along `axis` removed.\n",
      "\n",
      "See Also\n",
      "--------\n",
      "ndarray.argmax, argmin\n",
      "amax : The maximum value along a given axis.\n",
      "unravel_index : Convert a flat index into an index tuple.\n",
      "\n",
      "Notes\n",
      "-----\n",
      "In case of multiple occurrences of the maximum values, the indices\n",
      "corresponding to the first occurrence are returned.\n",
      "\n",
      "Examples\n",
      "--------\n",
      ">>> a = np.arange(6).reshape(2,3) + 10\n",
      ">>> a\n",
      "array([[10, 11, 12],\n",
      "       [13, 14, 15]])\n",
      ">>> np.argmax(a)\n",
      "5\n",
      ">>> np.argmax(a, axis=0)\n",
      "array([1, 1, 1])\n",
      ">>> np.argmax(a, axis=1)\n",
      "array([2, 2])\n",
      "\n",
      "Indexes of the maximal elements of a N-dimensional array:\n",
      "\n",
      ">>> ind = np.unravel_index(np.argmax(a, axis=None), a.shape)\n",
      ">>> ind\n",
      "(1, 2)\n",
      ">>> a[ind]\n",
      "15\n",
      "\n",
      ">>> b = np.arange(6)\n",
      ">>> b[1] = 5\n",
      ">>> b\n",
      "array([0, 5, 2, 3, 4, 5])\n",
      ">>> np.argmax(b)  # Only the first occurrence is returned.\n",
      "1\n"
     ]
    }
   ],
   "source": [
    "np.info(np.argmax)"
   ]
  },
  {
   "cell_type": "code",
   "execution_count": 198,
   "metadata": {},
   "outputs": [
    {
     "name": "stdout",
     "output_type": "stream",
     "text": [
      "[41.32920529  4.84285881 75.42208268 49.44904989  1.         72.00432805\n",
      " 72.51321305  7.55494584 53.71283899]\n"
     ]
    }
   ],
   "source": [
    "z = np.random.uniform(1,80,9)\n",
    "z[np.argmax(z)]=1\n",
    "print(z)"
   ]
  },
  {
   "cell_type": "markdown",
   "metadata": {},
   "source": [
    "### 46.创建一个结构化数组，并实现x和y坐标覆盖[0,1]x[0,1]区域"
   ]
  },
  {
   "cell_type": "code",
   "execution_count": 199,
   "metadata": {},
   "outputs": [
    {
     "name": "stdout",
     "output_type": "stream",
     "text": [
      " meshgrid(*xi, **kwargs)\n",
      "\n",
      "Return coordinate matrices from coordinate vectors.\n",
      "\n",
      "Make N-D coordinate arrays for vectorized evaluations of\n",
      "N-D scalar/vector fields over N-D grids, given\n",
      "one-dimensional coordinate arrays x1, x2,..., xn.\n",
      "\n",
      ".. versionchanged:: 1.9\n",
      "   1-D and 0-D cases are allowed.\n",
      "\n",
      "Parameters\n",
      "----------\n",
      "x1, x2,..., xn : array_like\n",
      "    1-D arrays representing the coordinates of a grid.\n",
      "indexing : {'xy', 'ij'}, optional\n",
      "    Cartesian ('xy', default) or matrix ('ij') indexing of output.\n",
      "    See Notes for more details.\n",
      "\n",
      "    .. versionadded:: 1.7.0\n",
      "sparse : bool, optional\n",
      "    If True a sparse grid is returned in order to conserve memory.\n",
      "    Default is False.\n",
      "\n",
      "    .. versionadded:: 1.7.0\n",
      "copy : bool, optional\n",
      "    If False, a view into the original arrays are returned in order to\n",
      "    conserve memory.  Default is True.  Please note that\n",
      "    ``sparse=False, copy=False`` will likely return non-contiguous\n",
      "    arrays.  Furthermore, more than one element of a broadcast array\n",
      "    may refer to a single memory location.  If you need to write to the\n",
      "    arrays, make copies first.\n",
      "\n",
      "    .. versionadded:: 1.7.0\n",
      "\n",
      "Returns\n",
      "-------\n",
      "X1, X2,..., XN : ndarray\n",
      "    For vectors `x1`, `x2`,..., 'xn' with lengths ``Ni=len(xi)`` ,\n",
      "    return ``(N1, N2, N3,...Nn)`` shaped arrays if indexing='ij'\n",
      "    or ``(N2, N1, N3,...Nn)`` shaped arrays if indexing='xy'\n",
      "    with the elements of `xi` repeated to fill the matrix along\n",
      "    the first dimension for `x1`, the second for `x2` and so on.\n",
      "\n",
      "Notes\n",
      "-----\n",
      "This function supports both indexing conventions through the indexing\n",
      "keyword argument.  Giving the string 'ij' returns a meshgrid with\n",
      "matrix indexing, while 'xy' returns a meshgrid with Cartesian indexing.\n",
      "In the 2-D case with inputs of length M and N, the outputs are of shape\n",
      "(N, M) for 'xy' indexing and (M, N) for 'ij' indexing.  In the 3-D case\n",
      "with inputs of length M, N and P, outputs are of shape (N, M, P) for\n",
      "'xy' indexing and (M, N, P) for 'ij' indexing.  The difference is\n",
      "illustrated by the following code snippet::\n",
      "\n",
      "    xv, yv = np.meshgrid(x, y, sparse=False, indexing='ij')\n",
      "    for i in range(nx):\n",
      "        for j in range(ny):\n",
      "            # treat xv[i,j], yv[i,j]\n",
      "\n",
      "    xv, yv = np.meshgrid(x, y, sparse=False, indexing='xy')\n",
      "    for i in range(nx):\n",
      "        for j in range(ny):\n",
      "            # treat xv[j,i], yv[j,i]\n",
      "\n",
      "In the 1-D and 0-D case, the indexing and sparse keywords have no effect.\n",
      "\n",
      "See Also\n",
      "--------\n",
      "index_tricks.mgrid : Construct a multi-dimensional \"meshgrid\"\n",
      "                 using indexing notation.\n",
      "index_tricks.ogrid : Construct an open multi-dimensional \"meshgrid\"\n",
      "                 using indexing notation.\n",
      "\n",
      "Examples\n",
      "--------\n",
      ">>> nx, ny = (3, 2)\n",
      ">>> x = np.linspace(0, 1, nx)\n",
      ">>> y = np.linspace(0, 1, ny)\n",
      ">>> xv, yv = np.meshgrid(x, y)\n",
      ">>> xv\n",
      "array([[ 0. ,  0.5,  1. ],\n",
      "       [ 0. ,  0.5,  1. ]])\n",
      ">>> yv\n",
      "array([[ 0.,  0.,  0.],\n",
      "       [ 1.,  1.,  1.]])\n",
      ">>> xv, yv = np.meshgrid(x, y, sparse=True)  # make sparse output arrays\n",
      ">>> xv\n",
      "array([[ 0. ,  0.5,  1. ]])\n",
      ">>> yv\n",
      "array([[ 0.],\n",
      "       [ 1.]])\n",
      "\n",
      "`meshgrid` is very useful to evaluate functions on a grid.\n",
      "\n",
      ">>> import matplotlib.pyplot as plt\n",
      ">>> x = np.arange(-5, 5, 0.1)\n",
      ">>> y = np.arange(-5, 5, 0.1)\n",
      ">>> xx, yy = np.meshgrid(x, y, sparse=True)\n",
      ">>> z = np.sin(xx**2 + yy**2) / (xx**2 + yy**2)\n",
      ">>> h = plt.contourf(x,y,z)\n",
      ">>> plt.show()\n"
     ]
    }
   ],
   "source": [
    "np.info(np.meshgrid)"
   ]
  },
  {
   "cell_type": "code",
   "execution_count": null,
   "metadata": {},
   "outputs": [],
   "source": []
  }
 ],
 "metadata": {
  "kernelspec": {
   "display_name": "Python 3",
   "language": "python",
   "name": "python3"
  },
  "language_info": {
   "codemirror_mode": {
    "name": "ipython",
    "version": 3
   },
   "file_extension": ".py",
   "mimetype": "text/x-python",
   "name": "python",
   "nbconvert_exporter": "python",
   "pygments_lexer": "ipython3",
   "version": "3.7.3"
  }
 },
 "nbformat": 4,
 "nbformat_minor": 2
}
