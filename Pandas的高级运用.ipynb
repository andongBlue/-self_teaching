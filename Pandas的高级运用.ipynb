{
 "cells": [
  {
   "cell_type": "markdown",
   "metadata": {},
   "source": [
    "# Pandas的高级运算"
   ]
  },
  {
   "cell_type": "code",
   "execution_count": 1,
   "metadata": {},
   "outputs": [],
   "source": [
    "import pandas as pd ; import numpy as np"
   ]
  },
  {
   "cell_type": "markdown",
   "metadata": {},
   "source": [
    "## 数据分类"
   ]
  },
  {
   "cell_type": "markdown",
   "metadata": {},
   "source": [
    "**先说说数据分类为啥重要。我们在获得大量的数据时，我们对于单一的数据没有那么关心，我们需要的是对于一类东西的分析，或是研究几类人，或是研究几类商品。分类后我们可以使用群体的视角来审视，什么平均值、标准差、中位数，我们才可以好好探讨，对于类与类之间特征，我们也可以做研究**"
   ]
  },
  {
   "cell_type": "markdown",
   "metadata": {},
   "source": [
    "**在Pandas和Numpy中有'分类类型'，对于一类的数据做了整理，并以索引标记了相同的数据**"
   ]
  },
  {
   "cell_type": "code",
   "execution_count": 2,
   "metadata": {},
   "outputs": [
    {
     "name": "stdout",
     "output_type": "stream",
     "text": [
      "0    orange\n",
      "1     juice\n",
      "2     chips\n",
      "3    orange\n",
      "4     juice\n",
      "5     chips\n",
      "6    orange\n",
      "7     juice\n",
      "8     chips\n",
      "dtype: object\n"
     ]
    }
   ],
   "source": [
    "#之前我们对于同类数据的统计使用的是unique和value_counts\n",
    "test = pd.Series(['orange','juice','chips']*3)\n",
    "print(test)"
   ]
  },
  {
   "cell_type": "code",
   "execution_count": 3,
   "metadata": {},
   "outputs": [
    {
     "data": {
      "text/plain": [
       "array(['orange', 'juice', 'chips'], dtype=object)"
      ]
     },
     "execution_count": 3,
     "metadata": {},
     "output_type": "execute_result"
    }
   ],
   "source": [
    "pd.unique(test)"
   ]
  },
  {
   "cell_type": "code",
   "execution_count": 4,
   "metadata": {},
   "outputs": [
    {
     "data": {
      "text/plain": [
       "orange    3\n",
       "juice     3\n",
       "chips     3\n",
       "dtype: int64"
      ]
     },
     "execution_count": 4,
     "metadata": {},
     "output_type": "execute_result"
    }
   ],
   "source": [
    "pd.value_counts(test)"
   ]
  },
  {
   "cell_type": "markdown",
   "metadata": {},
   "source": [
    "### 引入分类类型"
   ]
  },
  {
   "cell_type": "code",
   "execution_count": 5,
   "metadata": {},
   "outputs": [
    {
     "name": "stdout",
     "output_type": "stream",
     "text": [
      "     a    s    d    f    g    h    j    k    l\n",
      "0  1.0 -0.0  1.0  1.0 -1.0 -0.0 -0.0  1.0 -0.0\n",
      "1  1.0  1.0 -0.0  1.0 -0.0  1.0  1.0 -0.0  2.0\n",
      "2  1.0 -0.0  1.0 -0.0 -0.0 -0.0  2.0 -0.0  1.0\n",
      "3 -2.0  2.0 -0.0  1.0 -0.0 -0.0  2.0  1.0 -0.0\n",
      "4 -0.0 -0.0  1.0  3.0 -0.0 -1.0 -1.0 -1.0 -1.0\n",
      "5  2.0 -0.0 -1.0  2.0 -0.0  1.0 -1.0  1.0 -0.0\n",
      "6  1.0  1.0 -0.0  1.0 -0.0  1.0 -0.0 -0.0 -0.0\n",
      "7  2.0  2.0  1.0  1.0  1.0 -0.0 -1.0 -1.0 -2.0\n",
      "8 -1.0  1.0  1.0 -1.0  1.0 -0.0  1.0 -0.0 -0.0\n"
     ]
    }
   ],
   "source": [
    "#DataFrame取一列为Series\n",
    "frame = pd.DataFrame(np.ceil(np.random.randn(9,9)),index=range(9),columns=['a','s','d','f','g','h','j','k','l'])\n",
    "print(frame)"
   ]
  },
  {
   "cell_type": "code",
   "execution_count": 6,
   "metadata": {},
   "outputs": [
    {
     "data": {
      "text/plain": [
       "0    1.0\n",
       "1    1.0\n",
       "2    1.0\n",
       "3   -2.0\n",
       "4   -0.0\n",
       "5    2.0\n",
       "6    1.0\n",
       "7    2.0\n",
       "8   -1.0\n",
       "Name: a, dtype: float64"
      ]
     },
     "execution_count": 6,
     "metadata": {},
     "output_type": "execute_result"
    }
   ],
   "source": [
    "frame['a']"
   ]
  },
  {
   "cell_type": "markdown",
   "metadata": {},
   "source": [
    "**对于分类类型的转变的方法是：astype('category')**"
   ]
  },
  {
   "cell_type": "code",
   "execution_count": 7,
   "metadata": {},
   "outputs": [
    {
     "name": "stdout",
     "output_type": "stream",
     "text": [
      "[1.0, 1.0, 1.0, -2.0, -0.0, 2.0, 1.0, 2.0, -1.0]\n",
      "Categories (5, float64): [-2.0, -1.0, -0.0, 1.0, 2.0]\n"
     ]
    }
   ],
   "source": [
    "test_t = frame['a'].astype('category').values\n",
    "print(test_t)"
   ]
  },
  {
   "cell_type": "markdown",
   "metadata": {},
   "source": [
    "**分类类型的数据是有索引(codes)和值(categories)两个内容决定的**"
   ]
  },
  {
   "cell_type": "code",
   "execution_count": 8,
   "metadata": {},
   "outputs": [
    {
     "data": {
      "text/plain": [
       "pandas.core.arrays.categorical.Categorical"
      ]
     },
     "execution_count": 8,
     "metadata": {},
     "output_type": "execute_result"
    }
   ],
   "source": [
    "type(test_t)"
   ]
  },
  {
   "cell_type": "code",
   "execution_count": 9,
   "metadata": {},
   "outputs": [
    {
     "data": {
      "text/plain": [
       "array([3, 3, 3, 0, 2, 4, 3, 4, 1], dtype=int8)"
      ]
     },
     "execution_count": 9,
     "metadata": {},
     "output_type": "execute_result"
    }
   ],
   "source": [
    "test_t.codes"
   ]
  },
  {
   "cell_type": "code",
   "execution_count": 10,
   "metadata": {},
   "outputs": [
    {
     "data": {
      "text/plain": [
       "Float64Index([-2.0, -1.0, -0.0, 1.0, 2.0], dtype='float64')"
      ]
     },
     "execution_count": 10,
     "metadata": {},
     "output_type": "execute_result"
    }
   ],
   "source": [
    "test_t.categories"
   ]
  },
  {
   "cell_type": "markdown",
   "metadata": {},
   "source": [
    "**在pandas中，你可以通过categoroical方法可以创建分类类型**"
   ]
  },
  {
   "cell_type": "code",
   "execution_count": 11,
   "metadata": {},
   "outputs": [],
   "source": [
    "test_n = pd.Categorical(['lala','haha','enen']*3)"
   ]
  },
  {
   "cell_type": "code",
   "execution_count": 12,
   "metadata": {},
   "outputs": [
    {
     "data": {
      "text/plain": [
       "[lala, haha, enen, lala, haha, enen, lala, haha, enen]\n",
       "Categories (3, object): [enen, haha, lala]"
      ]
     },
     "execution_count": 12,
     "metadata": {},
     "output_type": "execute_result"
    }
   ],
   "source": [
    "test_n"
   ]
  },
  {
   "cell_type": "code",
   "execution_count": 13,
   "metadata": {},
   "outputs": [
    {
     "data": {
      "text/plain": [
       "array([2, 1, 0, 2, 1, 0, 2, 1, 0], dtype=int8)"
      ]
     },
     "execution_count": 13,
     "metadata": {},
     "output_type": "execute_result"
    }
   ],
   "source": [
    "test_n.codes"
   ]
  },
  {
   "cell_type": "markdown",
   "metadata": {},
   "source": [
    "**如果你已经有了一个顺序，那么可以使用构造函数(from_codes)来建立分类类别**"
   ]
  },
  {
   "cell_type": "code",
   "execution_count": 14,
   "metadata": {},
   "outputs": [],
   "source": [
    "ele = ['lala','haha','enen']\n",
    "order = [0,1,2,0,0,0,1,1,2,1]\n",
    "test_a = pd.Categorical.from_codes(order,ele)"
   ]
  },
  {
   "cell_type": "code",
   "execution_count": 15,
   "metadata": {},
   "outputs": [
    {
     "data": {
      "text/plain": [
       "[lala, haha, enen, lala, lala, lala, haha, haha, enen, haha]\n",
       "Categories (3, object): [lala, haha, enen]"
      ]
     },
     "execution_count": 15,
     "metadata": {},
     "output_type": "execute_result"
    }
   ],
   "source": [
    "test_a"
   ]
  },
  {
   "cell_type": "markdown",
   "metadata": {},
   "source": [
    "**分类数组可以包含所有不可变类型**"
   ]
  },
  {
   "cell_type": "code",
   "execution_count": 16,
   "metadata": {},
   "outputs": [
    {
     "name": "stdout",
     "output_type": "stream",
     "text": [
      "[hahaha, enenen, 1, 2, hahaha, ..., 3, 2, 3, 1, 2]\n",
      "Length: 11\n",
      "Categories (7, object): [lalala, hahaha, enenen, 1, 2, 3, 4]\n"
     ]
    }
   ],
   "source": [
    "ele_a = ['lalala','hahaha','enenen',1,2,3,4]\n",
    "order_a = [1,2,3,4,1,2,5,4,5,3,4]\n",
    "test_b = pd.Categorical.from_codes(order_a,ele_a)\n",
    "print(test_b)"
   ]
  },
  {
   "cell_type": "markdown",
   "metadata": {},
   "source": [
    "### 用分类进行运算"
   ]
  },
  {
   "cell_type": "markdown",
   "metadata": {},
   "source": [
    "**就像一开始所说的，分类的目的是将很多数据通过某些法则归类再计算，下面用一个例子说明：**"
   ]
  },
  {
   "cell_type": "code",
   "execution_count": 17,
   "metadata": {},
   "outputs": [
    {
     "data": {
      "text/plain": [
       "array([ 0.09853435, -0.57641006, -0.29509204,  1.4046415 , -0.82662476])"
      ]
     },
     "execution_count": 17,
     "metadata": {},
     "output_type": "execute_result"
    }
   ],
   "source": [
    "#建立一个数据\n",
    "np.random.seed(12334)\n",
    "data = np.random.randn(1000)\n",
    "data[:5]"
   ]
  },
  {
   "cell_type": "code",
   "execution_count": 18,
   "metadata": {},
   "outputs": [
    {
     "name": "stdout",
     "output_type": "stream",
     "text": [
      "[(0.0386, 0.716], (-0.632, 0.0386], (-0.632, 0.0386], (0.716, 3.806], (-2.8729999999999998, -0.632], ..., (0.716, 3.806], (0.0386, 0.716], (-0.632, 0.0386], (-0.632, 0.0386], (0.716, 3.806]]\n",
      "Length: 1000\n",
      "Categories (4, interval[float64]): [(-2.8729999999999998, -0.632] < (-0.632, 0.0386] < (0.0386, 0.716] < (0.716, 3.806]]\n"
     ]
    }
   ],
   "source": [
    "#我使用qcut来分类\n",
    "result = pd.qcut(data,4)\n",
    "print(result)   "
   ]
  },
  {
   "cell_type": "markdown",
   "metadata": {},
   "source": [
    "**这个告诉我们，就算没有调用category之类的操作，如果是有分类的行为，也是Categories**"
   ]
  },
  {
   "cell_type": "code",
   "execution_count": 19,
   "metadata": {},
   "outputs": [],
   "source": [
    "#为了好区分，我们使用标签来为分隔的数据分组\n",
    "result = pd.qcut(data,4,labels=['A','B','C','D'])           #已经是分类类型"
   ]
  },
  {
   "cell_type": "code",
   "execution_count": 20,
   "metadata": {},
   "outputs": [
    {
     "data": {
      "text/plain": [
       "array([2, 1, 1, 3, 0], dtype=int8)"
      ]
     },
     "execution_count": 20,
     "metadata": {},
     "output_type": "execute_result"
    }
   ],
   "source": [
    "result.codes[:5]"
   ]
  },
  {
   "cell_type": "code",
   "execution_count": 21,
   "metadata": {},
   "outputs": [],
   "source": [
    "bins = pd.Series(data,name='data')"
   ]
  },
  {
   "cell_type": "code",
   "execution_count": 22,
   "metadata": {},
   "outputs": [],
   "source": [
    "end = bins.groupby(result).agg(['mean','count','std']).reset_index()"
   ]
  },
  {
   "cell_type": "code",
   "execution_count": 23,
   "metadata": {},
   "outputs": [
    {
     "name": "stdout",
     "output_type": "stream",
     "text": [
      "  index      mean  count       std\n",
      "0     A -1.219338    250  0.489043\n",
      "1     B -0.270401    250  0.189888\n",
      "2     C  0.350653    250  0.190798\n",
      "3     D  1.303876    250  0.506625\n"
     ]
    }
   ],
   "source": [
    "print(end)"
   ]
  },
  {
   "cell_type": "markdown",
   "metadata": {},
   "source": [
    "### 分类的效率问题"
   ]
  },
  {
   "cell_type": "markdown",
   "metadata": {},
   "source": [
    "**在举例子之前先说明答案：分类类型所占的内存要比同样大小的数据要小，但是在一次性产生分类类型数据的过程中会消耗cup和内存，但是这是一次性的**"
   ]
  },
  {
   "cell_type": "code",
   "execution_count": 24,
   "metadata": {},
   "outputs": [],
   "source": [
    "N = 10000000"
   ]
  },
  {
   "cell_type": "code",
   "execution_count": 25,
   "metadata": {},
   "outputs": [],
   "source": [
    "labes = pd.Series(['hahah','lalala','momomo','zezeze']*(N//4))"
   ]
  },
  {
   "cell_type": "code",
   "execution_count": 26,
   "metadata": {},
   "outputs": [],
   "source": [
    "categroies = labes.astype('category')"
   ]
  },
  {
   "cell_type": "code",
   "execution_count": 27,
   "metadata": {},
   "outputs": [
    {
     "data": {
      "text/plain": [
       "80000080"
      ]
     },
     "execution_count": 27,
     "metadata": {},
     "output_type": "execute_result"
    }
   ],
   "source": [
    "labes.memory_usage()"
   ]
  },
  {
   "cell_type": "code",
   "execution_count": 28,
   "metadata": {},
   "outputs": [
    {
     "data": {
      "text/plain": [
       "10000192"
      ]
     },
     "execution_count": 28,
     "metadata": {},
     "output_type": "execute_result"
    }
   ],
   "source": [
    "categroies.memory_usage(0)"
   ]
  },
  {
   "cell_type": "code",
   "execution_count": 29,
   "metadata": {},
   "outputs": [
    {
     "name": "stdout",
     "output_type": "stream",
     "text": [
      "Wall time: 470 ms\n"
     ]
    }
   ],
   "source": [
    "#来看看一次性的代价\n",
    "%time _ =  labes.astype('category')"
   ]
  },
  {
   "cell_type": "markdown",
   "metadata": {},
   "source": [
    "### 分类方法"
   ]
  },
  {
   "cell_type": "markdown",
   "metadata": {},
   "source": [
    "**分类的操作上面已经讲过了，这里的分类方法是根据碰到的一些情况完成的不同的分类方式**"
   ]
  },
  {
   "cell_type": "markdown",
   "metadata": {},
   "source": [
    "**你已经定义好了分类的数据，但是你的大数据的中有些元素没有包含进去，这个时候使用set_catagroies**"
   ]
  },
  {
   "cell_type": "code",
   "execution_count": 30,
   "metadata": {},
   "outputs": [
    {
     "name": "stdout",
     "output_type": "stream",
     "text": [
      "0     A\n",
      "1     B\n",
      "2     C\n",
      "3     D\n",
      "4     A\n",
      "5     B\n",
      "6     C\n",
      "7     D\n",
      "8     A\n",
      "9     B\n",
      "10    C\n",
      "11    D\n",
      "dtype: category\n",
      "Categories (4, object): [A, B, C, D]\n"
     ]
    }
   ],
   "source": [
    "data = pd.Series(['A','B','C','D']*3,dtype='category')\n",
    "print(data)"
   ]
  },
  {
   "cell_type": "code",
   "execution_count": 31,
   "metadata": {},
   "outputs": [],
   "source": [
    "#但是实际上的元素有【A,B,C,D,E,F】\n",
    "ele = ['A','B','C','D','E','F']\n",
    "data_new = data.cat.set_categories(ele)"
   ]
  },
  {
   "cell_type": "code",
   "execution_count": 32,
   "metadata": {},
   "outputs": [
    {
     "name": "stdout",
     "output_type": "stream",
     "text": [
      "0     A\n",
      "1     B\n",
      "2     C\n",
      "3     D\n",
      "4     A\n",
      "5     B\n",
      "6     C\n",
      "7     D\n",
      "8     A\n",
      "9     B\n",
      "10    C\n",
      "11    D\n",
      "dtype: category\n",
      "Categories (6, object): [A, B, C, D, E, F]\n"
     ]
    }
   ],
   "source": [
    "print(data_new)"
   ]
  },
  {
   "cell_type": "markdown",
   "metadata": {},
   "source": [
    "**由于我的分类变量的意义是：减少内存和高性能的工具。有时候数据有些分类之后我们就不用了，这个时候我们通过remove_unuesd_categories()**"
   ]
  },
  {
   "cell_type": "code",
   "execution_count": 33,
   "metadata": {},
   "outputs": [
    {
     "name": "stdout",
     "output_type": "stream",
     "text": [
      "2     C\n",
      "3     D\n",
      "6     C\n",
      "7     D\n",
      "10    C\n",
      "11    D\n",
      "dtype: category\n",
      "Categories (6, object): [A, B, C, D, E, F]\n"
     ]
    }
   ],
   "source": [
    "remove = data_new[data_new.isin(['C','D'])]\n",
    "print(remove)"
   ]
  },
  {
   "cell_type": "code",
   "execution_count": 34,
   "metadata": {},
   "outputs": [
    {
     "name": "stdout",
     "output_type": "stream",
     "text": [
      "2     C\n",
      "3     D\n",
      "6     C\n",
      "7     D\n",
      "10    C\n",
      "11    D\n",
      "dtype: category\n",
      "Categories (2, object): [C, D]\n"
     ]
    }
   ],
   "source": [
    "print(remove.cat.remove_unused_categories())"
   ]
  },
  {
   "cell_type": "markdown",
   "metadata": {},
   "source": [
    "### one-hot 编码"
   ]
  },
  {
   "cell_type": "markdown",
   "metadata": {},
   "source": [
    "**对于one-hot编码，可以理解为将我们分类完成的东西以二进制表现<https://zhuanlan.zhihu.com/p/37471802>**"
   ]
  },
  {
   "cell_type": "markdown",
   "metadata": {},
   "source": [
    "**我们的思路是，将我们想要的数据线分类，然后使用get_dummies**"
   ]
  },
  {
   "cell_type": "code",
   "execution_count": 35,
   "metadata": {},
   "outputs": [],
   "source": [
    "N = 10000"
   ]
  },
  {
   "cell_type": "code",
   "execution_count": 36,
   "metadata": {},
   "outputs": [
    {
     "data": {
      "text/plain": [
       "array([-0.20470766,  0.47894334, -0.51943872, -0.5557303 ,  1.96578057])"
      ]
     },
     "execution_count": 36,
     "metadata": {},
     "output_type": "execute_result"
    }
   ],
   "source": [
    "np.random.seed(12345)\n",
    "data = np.random.randn(N)\n",
    "data[:5]"
   ]
  },
  {
   "cell_type": "code",
   "execution_count": 37,
   "metadata": {},
   "outputs": [
    {
     "name": "stdout",
     "output_type": "stream",
     "text": [
      "[B, C, B, B, F]\n",
      "Categories (4, object): [A < B < C < F]\n"
     ]
    }
   ],
   "source": [
    "ele = pd.qcut(data,4,labels=['A','B','C','F'])\n",
    "print(ele[:5])"
   ]
  },
  {
   "cell_type": "code",
   "execution_count": 38,
   "metadata": {},
   "outputs": [
    {
     "name": "stdout",
     "output_type": "stream",
     "text": [
      "      A  B  C  F\n",
      "0     0  1  0  0\n",
      "1     0  0  1  0\n",
      "2     0  1  0  0\n",
      "3     0  1  0  0\n",
      "4     0  0  0  1\n",
      "5     0  0  0  1\n",
      "6     0  0  1  0\n",
      "7     0  0  1  0\n",
      "8     0  0  0  1\n",
      "9     0  0  0  1\n",
      "10    0  0  0  1\n",
      "11    1  0  0  0\n",
      "12    0  0  1  0\n",
      "13    0  0  1  0\n",
      "14    0  0  0  1\n",
      "15    0  0  0  1\n",
      "16    1  0  0  0\n",
      "17    0  1  0  0\n",
      "18    0  0  0  1\n",
      "19    0  1  0  0\n",
      "20    0  1  0  0\n",
      "21    0  0  1  0\n",
      "22    0  0  0  1\n",
      "23    1  0  0  0\n",
      "24    0  1  0  0\n",
      "25    0  0  1  0\n",
      "26    0  0  1  0\n",
      "27    0  0  1  0\n",
      "28    0  0  1  0\n",
      "29    0  0  0  1\n",
      "...  .. .. .. ..\n",
      "9970  0  0  1  0\n",
      "9971  0  0  1  0\n",
      "9972  0  0  1  0\n",
      "9973  0  1  0  0\n",
      "9974  0  0  1  0\n",
      "9975  0  1  0  0\n",
      "9976  0  0  0  1\n",
      "9977  0  1  0  0\n",
      "9978  1  0  0  0\n",
      "9979  0  0  0  1\n",
      "9980  0  0  1  0\n",
      "9981  1  0  0  0\n",
      "9982  0  0  0  1\n",
      "9983  0  0  1  0\n",
      "9984  0  1  0  0\n",
      "9985  0  0  0  1\n",
      "9986  0  1  0  0\n",
      "9987  0  0  0  1\n",
      "9988  0  0  1  0\n",
      "9989  0  0  0  1\n",
      "9990  0  0  0  1\n",
      "9991  0  0  0  1\n",
      "9992  1  0  0  0\n",
      "9993  0  0  1  0\n",
      "9994  1  0  0  0\n",
      "9995  1  0  0  0\n",
      "9996  0  0  0  1\n",
      "9997  0  0  1  0\n",
      "9998  1  0  0  0\n",
      "9999  0  0  1  0\n",
      "\n",
      "[10000 rows x 4 columns]\n"
     ]
    }
   ],
   "source": [
    "print(pd.get_dummies(ele))"
   ]
  },
  {
   "cell_type": "markdown",
   "metadata": {},
   "source": [
    "## GroupBy的高级应用"
   ]
  },
  {
   "cell_type": "markdown",
   "metadata": {},
   "source": [
    "### Group Tranforms and \"Unwrapped\" GroupBys"
   ]
  },
  {
   "cell_type": "markdown",
   "metadata": {},
   "source": [
    "**标题使用英文是因为，在这一节的内容，我觉得中文翻译误导了我，但是英文理解起来比较直白**"
   ]
  },
  {
   "cell_type": "code",
   "execution_count": 39,
   "metadata": {},
   "outputs": [],
   "source": [
    "frame = pd.DataFrame({'key':['a','s','a','f'],'value':range(4)})"
   ]
  },
  {
   "cell_type": "code",
   "execution_count": 40,
   "metadata": {},
   "outputs": [
    {
     "name": "stdout",
     "output_type": "stream",
     "text": [
      "  key  value\n",
      "0   a      0\n",
      "1   s      1\n",
      "2   a      2\n",
      "3   f      3\n"
     ]
    }
   ],
   "source": [
    "print(frame)"
   ]
  },
  {
   "cell_type": "code",
   "execution_count": 41,
   "metadata": {},
   "outputs": [],
   "source": [
    "#回顾一下groupby\n",
    "ele= frame.groupby('key').agg(['sum'])"
   ]
  },
  {
   "cell_type": "code",
   "execution_count": 42,
   "metadata": {},
   "outputs": [
    {
     "name": "stdout",
     "output_type": "stream",
     "text": [
      "    value\n",
      "      sum\n",
      "key      \n",
      "a       2\n",
      "f       3\n",
      "s       1\n"
     ]
    }
   ],
   "source": [
    "print(ele)"
   ]
  },
  {
   "cell_type": "markdown",
   "metadata": {},
   "source": [
    "**如果我希望自己可以将数据合并的时候，不是将数据整合之后再将表合并，而计算好的数据写在每一个同类的旁边，这个时候我们需要transform()函数**"
   ]
  },
  {
   "cell_type": "markdown",
   "metadata": {},
   "source": [
    "**具体的东西的tramform()函数和上面所提的需求可以看这个链接：https://www.jianshu.com/p/509d7b97088c**"
   ]
  },
  {
   "cell_type": "code",
   "execution_count": 43,
   "metadata": {},
   "outputs": [],
   "source": [
    "#上面的例子可以为\n",
    "ele = frame.groupby('key')\n",
    "test = ele.transform(lambda x : x.sum())"
   ]
  },
  {
   "cell_type": "code",
   "execution_count": 44,
   "metadata": {},
   "outputs": [
    {
     "name": "stdout",
     "output_type": "stream",
     "text": [
      "   value\n",
      "0      2\n",
      "1      1\n",
      "2      2\n",
      "3      3\n"
     ]
    }
   ],
   "source": [
    "print(test)"
   ]
  },
  {
   "cell_type": "markdown",
   "metadata": {},
   "source": [
    "**在a所在的位置上，都是sum()之后的结果**"
   ]
  },
  {
   "cell_type": "code",
   "execution_count": 46,
   "metadata": {},
   "outputs": [],
   "source": [
    "#还可以\n",
    "def cul(x):\n",
    "    return (x-x.mean())//x"
   ]
  },
  {
   "cell_type": "code",
   "execution_count": 47,
   "metadata": {},
   "outputs": [],
   "source": [
    "test = ele.transform(cul)"
   ]
  },
  {
   "cell_type": "code",
   "execution_count": 48,
   "metadata": {},
   "outputs": [
    {
     "name": "stdout",
     "output_type": "stream",
     "text": [
      "   value\n",
      "0    NaN\n",
      "1    0.0\n",
      "2    0.0\n",
      "3    0.0\n"
     ]
    }
   ],
   "source": [
    "print(test)"
   ]
  },
  {
   "cell_type": "markdown",
   "metadata": {},
   "source": [
    "### 分组的时间重采样"
   ]
  },
  {
   "cell_type": "markdown",
   "metadata": {},
   "source": [
    "**对于一般的字符、字符串以及数字，我们使用groupby可以简单的将数据隔离出来。但是对数时间的数据，我们要将他区分的方法是引入TimeGroup对象和resample方法**"
   ]
  },
  {
   "cell_type": "markdown",
   "metadata": {},
   "source": [
    ">  1.resample方法是将index的数据通过resample分隔，时间数据在index上是关键\n",
    "\n",
    ">  2.引入TimeGroup是将在column上的时间数据分隔"
   ]
  },
  {
   "cell_type": "code",
   "execution_count": 59,
   "metadata": {},
   "outputs": [],
   "source": [
    "time = pd.date_range('2019/7/12 00:00',freq='5min',periods=10)"
   ]
  },
  {
   "cell_type": "code",
   "execution_count": 60,
   "metadata": {},
   "outputs": [
    {
     "name": "stdout",
     "output_type": "stream",
     "text": [
      "DatetimeIndex(['2019-07-12 00:00:00', '2019-07-12 00:05:00',\n",
      "               '2019-07-12 00:10:00', '2019-07-12 00:15:00',\n",
      "               '2019-07-12 00:20:00', '2019-07-12 00:25:00',\n",
      "               '2019-07-12 00:30:00', '2019-07-12 00:35:00',\n",
      "               '2019-07-12 00:40:00', '2019-07-12 00:45:00'],\n",
      "              dtype='datetime64[ns]', freq='5T')\n"
     ]
    }
   ],
   "source": [
    "print(time)"
   ]
  },
  {
   "cell_type": "code",
   "execution_count": 61,
   "metadata": {},
   "outputs": [],
   "source": [
    "frame = pd.DataFrame({'time':time,'value':range(10)})"
   ]
  },
  {
   "cell_type": "code",
   "execution_count": 62,
   "metadata": {},
   "outputs": [
    {
     "name": "stdout",
     "output_type": "stream",
     "text": [
      "                 time  value\n",
      "0 2019-07-12 00:00:00      0\n",
      "1 2019-07-12 00:05:00      1\n",
      "2 2019-07-12 00:10:00      2\n",
      "3 2019-07-12 00:15:00      3\n",
      "4 2019-07-12 00:20:00      4\n",
      "5 2019-07-12 00:25:00      5\n",
      "6 2019-07-12 00:30:00      6\n",
      "7 2019-07-12 00:35:00      7\n",
      "8 2019-07-12 00:40:00      8\n",
      "9 2019-07-12 00:45:00      9\n"
     ]
    }
   ],
   "source": [
    "print(frame)"
   ]
  },
  {
   "cell_type": "code",
   "execution_count": 63,
   "metadata": {},
   "outputs": [],
   "source": [
    "#开始分隔：使用sample()\n",
    "test = frame.set_index('time').resample('20min').count()"
   ]
  },
  {
   "cell_type": "code",
   "execution_count": 65,
   "metadata": {},
   "outputs": [
    {
     "name": "stdout",
     "output_type": "stream",
     "text": [
      "                     value\n",
      "time                      \n",
      "2019-07-12 00:00:00      4\n",
      "2019-07-12 00:20:00      4\n",
      "2019-07-12 00:40:00      2\n"
     ]
    }
   ],
   "source": [
    "print(test)"
   ]
  },
  {
   "cell_type": "code",
   "execution_count": 68,
   "metadata": {},
   "outputs": [],
   "source": [
    "#开始分隔：使用TimeGroup\n",
    "frame = pd.DataFrame({'time':time,'value':range(10),'key':['a','a','s','s','f','g','h','h','h','l']})"
   ]
  },
  {
   "cell_type": "code",
   "execution_count": 69,
   "metadata": {},
   "outputs": [
    {
     "name": "stdout",
     "output_type": "stream",
     "text": [
      "                 time  value key\n",
      "0 2019-07-12 00:00:00      0   a\n",
      "1 2019-07-12 00:05:00      1   a\n",
      "2 2019-07-12 00:10:00      2   s\n",
      "3 2019-07-12 00:15:00      3   s\n",
      "4 2019-07-12 00:20:00      4   f\n",
      "5 2019-07-12 00:25:00      5   g\n",
      "6 2019-07-12 00:30:00      6   h\n",
      "7 2019-07-12 00:35:00      7   h\n",
      "8 2019-07-12 00:40:00      8   h\n",
      "9 2019-07-12 00:45:00      9   l\n"
     ]
    }
   ],
   "source": [
    "print(frame)"
   ]
  },
  {
   "cell_type": "code",
   "execution_count": null,
   "metadata": {},
   "outputs": [],
   "source": []
  }
 ],
 "metadata": {
  "kernelspec": {
   "display_name": "Python 3",
   "language": "python",
   "name": "python3"
  },
  "language_info": {
   "codemirror_mode": {
    "name": "ipython",
    "version": 3
   },
   "file_extension": ".py",
   "mimetype": "text/x-python",
   "name": "python",
   "nbconvert_exporter": "python",
   "pygments_lexer": "ipython3",
   "version": "3.7.3"
  }
 },
 "nbformat": 4,
 "nbformat_minor": 2
}
