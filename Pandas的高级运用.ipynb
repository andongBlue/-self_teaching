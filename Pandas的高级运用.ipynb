{
 "cells": [
  {
   "cell_type": "markdown",
   "metadata": {},
   "source": [
    "# Pandas的高级运算"
   ]
  },
  {
   "cell_type": "code",
   "execution_count": 1,
   "metadata": {},
   "outputs": [],
   "source": [
    "import pandas as pd ; import numpy as np"
   ]
  },
  {
   "cell_type": "markdown",
   "metadata": {},
   "source": [
    "## 数据分类"
   ]
  },
  {
   "cell_type": "markdown",
   "metadata": {},
   "source": [
    "**先说说数据分类为啥重要。我们在获得大量的数据时，我们对于单一的数据没有那么关心，我们需要的是对于一类东西的分析，或是研究几类人，或是研究几类商品。分类后我们可以使用群体的视角来审视，什么平均值、标准差、中位数，我们才可以好好探讨，对于类与类之间特征，我们也可以做研究**"
   ]
  },
  {
   "cell_type": "markdown",
   "metadata": {},
   "source": [
    "**在Pandas和Numpy中有'分类类型'，对于一类的数据做了整理，并以索引标记了相同的数据**"
   ]
  },
  {
   "cell_type": "code",
   "execution_count": 2,
   "metadata": {},
   "outputs": [
    {
     "name": "stdout",
     "output_type": "stream",
     "text": [
      "0    orange\n",
      "1     juice\n",
      "2     chips\n",
      "3    orange\n",
      "4     juice\n",
      "5     chips\n",
      "6    orange\n",
      "7     juice\n",
      "8     chips\n",
      "dtype: object\n"
     ]
    }
   ],
   "source": [
    "#之前我们对于同类数据的统计使用的是unique和value_counts\n",
    "test = pd.Series(['orange','juice','chips']*3)\n",
    "print(test)"
   ]
  },
  {
   "cell_type": "code",
   "execution_count": 3,
   "metadata": {},
   "outputs": [
    {
     "data": {
      "text/plain": [
       "array(['orange', 'juice', 'chips'], dtype=object)"
      ]
     },
     "execution_count": 3,
     "metadata": {},
     "output_type": "execute_result"
    }
   ],
   "source": [
    "pd.unique(test)"
   ]
  },
  {
   "cell_type": "code",
   "execution_count": 4,
   "metadata": {},
   "outputs": [
    {
     "data": {
      "text/plain": [
       "chips     3\n",
       "orange    3\n",
       "juice     3\n",
       "dtype: int64"
      ]
     },
     "execution_count": 4,
     "metadata": {},
     "output_type": "execute_result"
    }
   ],
   "source": [
    "pd.value_counts(test)"
   ]
  },
  {
   "cell_type": "markdown",
   "metadata": {},
   "source": [
    "### 引入分类类型"
   ]
  },
  {
   "cell_type": "code",
   "execution_count": 5,
   "metadata": {},
   "outputs": [
    {
     "name": "stdout",
     "output_type": "stream",
     "text": [
      "     a    s    d    f    g    h    j    k    l\n",
      "0 -0.0 -0.0 -0.0  1.0 -0.0 -0.0  1.0  1.0  1.0\n",
      "1  2.0  1.0 -0.0  2.0 -0.0 -0.0 -0.0  1.0 -0.0\n",
      "2  2.0 -0.0 -1.0 -1.0 -1.0 -1.0 -0.0  1.0 -0.0\n",
      "3 -1.0 -1.0 -0.0  1.0  1.0 -0.0  2.0  1.0 -0.0\n",
      "4 -0.0 -0.0  2.0  3.0  1.0 -0.0 -0.0  1.0  1.0\n",
      "5  1.0 -0.0 -0.0  1.0 -3.0  2.0  1.0 -0.0 -0.0\n",
      "6 -0.0  2.0  1.0  1.0 -0.0 -0.0 -0.0  3.0 -0.0\n",
      "7 -0.0  1.0  1.0  2.0 -0.0 -0.0  1.0  1.0 -0.0\n",
      "8  1.0  2.0  1.0  1.0  1.0 -0.0 -0.0  2.0  1.0\n"
     ]
    }
   ],
   "source": [
    "#DataFrame取一列为Series\n",
    "frame = pd.DataFrame(np.ceil(np.random.randn(9,9)),index=range(9),columns=['a','s','d','f','g','h','j','k','l'])\n",
    "print(frame)"
   ]
  },
  {
   "cell_type": "code",
   "execution_count": 6,
   "metadata": {},
   "outputs": [
    {
     "data": {
      "text/plain": [
       "0   -0.0\n",
       "1    2.0\n",
       "2    2.0\n",
       "3   -1.0\n",
       "4   -0.0\n",
       "5    1.0\n",
       "6   -0.0\n",
       "7   -0.0\n",
       "8    1.0\n",
       "Name: a, dtype: float64"
      ]
     },
     "execution_count": 6,
     "metadata": {},
     "output_type": "execute_result"
    }
   ],
   "source": [
    "frame['a']"
   ]
  },
  {
   "cell_type": "markdown",
   "metadata": {},
   "source": [
    "**对于分类类型的转变的方法是：astype('category')**"
   ]
  },
  {
   "cell_type": "code",
   "execution_count": 7,
   "metadata": {},
   "outputs": [
    {
     "name": "stdout",
     "output_type": "stream",
     "text": [
      "[-0.0, 2.0, 2.0, -1.0, -0.0, 1.0, -0.0, -0.0, 1.0]\n",
      "Categories (4, float64): [-1.0, -0.0, 1.0, 2.0]\n"
     ]
    }
   ],
   "source": [
    "test_t = frame['a'].astype('category').values\n",
    "print(test_t)"
   ]
  },
  {
   "cell_type": "markdown",
   "metadata": {},
   "source": [
    "**分类类型的数据是有索引(codes)和值(categories)两个内容决定的**"
   ]
  },
  {
   "cell_type": "code",
   "execution_count": 8,
   "metadata": {},
   "outputs": [
    {
     "data": {
      "text/plain": [
       "pandas.core.arrays.categorical.Categorical"
      ]
     },
     "execution_count": 8,
     "metadata": {},
     "output_type": "execute_result"
    }
   ],
   "source": [
    "type(test_t)"
   ]
  },
  {
   "cell_type": "code",
   "execution_count": 9,
   "metadata": {},
   "outputs": [
    {
     "data": {
      "text/plain": [
       "array([1, 3, 3, 0, 1, 2, 1, 1, 2], dtype=int8)"
      ]
     },
     "execution_count": 9,
     "metadata": {},
     "output_type": "execute_result"
    }
   ],
   "source": [
    "test_t.codes"
   ]
  },
  {
   "cell_type": "code",
   "execution_count": 10,
   "metadata": {},
   "outputs": [
    {
     "data": {
      "text/plain": [
       "Float64Index([-1.0, -0.0, 1.0, 2.0], dtype='float64')"
      ]
     },
     "execution_count": 10,
     "metadata": {},
     "output_type": "execute_result"
    }
   ],
   "source": [
    "test_t.categories"
   ]
  },
  {
   "cell_type": "markdown",
   "metadata": {},
   "source": [
    "**在pandas中，你可以通过categoroical方法可以创建分类类型**"
   ]
  },
  {
   "cell_type": "code",
   "execution_count": 11,
   "metadata": {},
   "outputs": [],
   "source": [
    "test_n = pd.Categorical(['lala','haha','enen']*3)"
   ]
  },
  {
   "cell_type": "code",
   "execution_count": 12,
   "metadata": {},
   "outputs": [
    {
     "data": {
      "text/plain": [
       "[lala, haha, enen, lala, haha, enen, lala, haha, enen]\n",
       "Categories (3, object): [enen, haha, lala]"
      ]
     },
     "execution_count": 12,
     "metadata": {},
     "output_type": "execute_result"
    }
   ],
   "source": [
    "test_n"
   ]
  },
  {
   "cell_type": "code",
   "execution_count": 13,
   "metadata": {},
   "outputs": [
    {
     "data": {
      "text/plain": [
       "array([2, 1, 0, 2, 1, 0, 2, 1, 0], dtype=int8)"
      ]
     },
     "execution_count": 13,
     "metadata": {},
     "output_type": "execute_result"
    }
   ],
   "source": [
    "test_n.codes"
   ]
  },
  {
   "cell_type": "markdown",
   "metadata": {},
   "source": [
    "**如果你已经有了一个顺序，那么可以使用构造函数(from_codes)来建立分类类别**"
   ]
  },
  {
   "cell_type": "code",
   "execution_count": 14,
   "metadata": {},
   "outputs": [],
   "source": [
    "ele = ['lala','haha','enen']\n",
    "order = [0,1,2,0,0,0,1,1,2,1]\n",
    "test_a = pd.Categorical.from_codes(order,ele)"
   ]
  },
  {
   "cell_type": "code",
   "execution_count": 15,
   "metadata": {},
   "outputs": [
    {
     "data": {
      "text/plain": [
       "[lala, haha, enen, lala, lala, lala, haha, haha, enen, haha]\n",
       "Categories (3, object): [lala, haha, enen]"
      ]
     },
     "execution_count": 15,
     "metadata": {},
     "output_type": "execute_result"
    }
   ],
   "source": [
    "test_a"
   ]
  },
  {
   "cell_type": "markdown",
   "metadata": {},
   "source": [
    "**分类数组可以包含所有不可变类型**"
   ]
  },
  {
   "cell_type": "code",
   "execution_count": 16,
   "metadata": {},
   "outputs": [
    {
     "name": "stdout",
     "output_type": "stream",
     "text": [
      "[hahaha, enenen, 1, 2, hahaha, ..., 3, 2, 3, 1, 2]\n",
      "Length: 11\n",
      "Categories (7, object): [lalala, hahaha, enenen, 1, 2, 3, 4]\n"
     ]
    }
   ],
   "source": [
    "ele_a = ['lalala','hahaha','enenen',1,2,3,4]\n",
    "order_a = [1,2,3,4,1,2,5,4,5,3,4]\n",
    "test_b = pd.Categorical.from_codes(order_a,ele_a)\n",
    "print(test_b)"
   ]
  },
  {
   "cell_type": "markdown",
   "metadata": {},
   "source": [
    "### 用分类进行运算"
   ]
  },
  {
   "cell_type": "markdown",
   "metadata": {},
   "source": [
    "**就像一开始所说的，分类的目的是将很多数据通过某些法则归类再计算，下面用一个例子说明：**"
   ]
  },
  {
   "cell_type": "code",
   "execution_count": 17,
   "metadata": {},
   "outputs": [
    {
     "data": {
      "text/plain": [
       "array([ 0.09853435, -0.57641006, -0.29509204,  1.4046415 , -0.82662476])"
      ]
     },
     "execution_count": 17,
     "metadata": {},
     "output_type": "execute_result"
    }
   ],
   "source": [
    "#建立一个数据\n",
    "np.random.seed(12334)\n",
    "data = np.random.randn(1000)\n",
    "data[:5]"
   ]
  },
  {
   "cell_type": "code",
   "execution_count": 18,
   "metadata": {},
   "outputs": [
    {
     "data": {
      "text/plain": [
       "[(0.0386, 0.716], (-0.632, 0.0386], (-0.632, 0.0386], (0.716, 3.806], (-2.8729999999999998, -0.632], ..., (0.716, 3.806], (0.0386, 0.716], (-0.632, 0.0386], (-0.632, 0.0386], (0.716, 3.806]]\n",
       "Length: 1000\n",
       "Categories (4, interval[float64]): [(-2.8729999999999998, -0.632] < (-0.632, 0.0386] < (0.0386, 0.716] < (0.716, 3.806]]"
      ]
     },
     "execution_count": 18,
     "metadata": {},
     "output_type": "execute_result"
    }
   ],
   "source": [
    "#我使用qcut来分类\n",
    "result = pd.qcut(data,4)\n",
    "result"
   ]
  },
  {
   "cell_type": "code",
   "execution_count": 19,
   "metadata": {},
   "outputs": [
    {
     "data": {
      "text/plain": [
       "[C, B, B, D, A, ..., D, C, B, B, D]\n",
       "Length: 1000\n",
       "Categories (4, object): [A < B < C < D]"
      ]
     },
     "execution_count": 19,
     "metadata": {},
     "output_type": "execute_result"
    }
   ],
   "source": [
    "#为了好区分，我们使用标签来为分隔的数据分组\n",
    "result = pd.qcut(data,4,labels=['A','B','C','D'])\n",
    "result              #已经是分类类型"
   ]
  },
  {
   "cell_type": "code",
   "execution_count": 20,
   "metadata": {},
   "outputs": [
    {
     "data": {
      "text/plain": [
       "array([2, 1, 1, 3, 0], dtype=int8)"
      ]
     },
     "execution_count": 20,
     "metadata": {},
     "output_type": "execute_result"
    }
   ],
   "source": [
    "result.codes[:5]"
   ]
  },
  {
   "cell_type": "code",
   "execution_count": 21,
   "metadata": {},
   "outputs": [],
   "source": [
    "bins = pd.Series(data,name='data')"
   ]
  },
  {
   "cell_type": "code",
   "execution_count": 22,
   "metadata": {},
   "outputs": [],
   "source": [
    "end = bins.groupby(result).agg(['mean','count','std']).reset_index()"
   ]
  },
  {
   "cell_type": "code",
   "execution_count": 23,
   "metadata": {},
   "outputs": [
    {
     "name": "stdout",
     "output_type": "stream",
     "text": [
      "  index      mean  count       std\n",
      "0     A -1.219338    250  0.489043\n",
      "1     B -0.270401    250  0.189888\n",
      "2     C  0.350653    250  0.190798\n",
      "3     D  1.303876    250  0.506625\n"
     ]
    }
   ],
   "source": [
    "print(end)"
   ]
  },
  {
   "cell_type": "markdown",
   "metadata": {},
   "source": [
    "### 分类的效率问题"
   ]
  },
  {
   "cell_type": "markdown",
   "metadata": {},
   "source": [
    "**在举例子之前先说明答案：分类类型所占的内存要比同样大小的数据要小，但是在一次性产生分类类型数据的过程中会消耗cup和内存，但是这是一次性的**"
   ]
  },
  {
   "cell_type": "code",
   "execution_count": 24,
   "metadata": {},
   "outputs": [],
   "source": [
    "N = 10000000"
   ]
  },
  {
   "cell_type": "code",
   "execution_count": 25,
   "metadata": {},
   "outputs": [],
   "source": [
    "labes = pd.Series(['hahah','lalala','momomo','zezeze']*(N//4))"
   ]
  },
  {
   "cell_type": "code",
   "execution_count": 26,
   "metadata": {},
   "outputs": [],
   "source": [
    "categroies = labes.astype('category')"
   ]
  },
  {
   "cell_type": "code",
   "execution_count": 27,
   "metadata": {},
   "outputs": [
    {
     "data": {
      "text/plain": [
       "80000080"
      ]
     },
     "execution_count": 27,
     "metadata": {},
     "output_type": "execute_result"
    }
   ],
   "source": [
    "labes.memory_usage()"
   ]
  },
  {
   "cell_type": "code",
   "execution_count": 28,
   "metadata": {},
   "outputs": [
    {
     "data": {
      "text/plain": [
       "10000192"
      ]
     },
     "execution_count": 28,
     "metadata": {},
     "output_type": "execute_result"
    }
   ],
   "source": [
    "categroies.memory_usage(0)"
   ]
  },
  {
   "cell_type": "code",
   "execution_count": 29,
   "metadata": {},
   "outputs": [
    {
     "name": "stdout",
     "output_type": "stream",
     "text": [
      "Wall time: 465 ms\n"
     ]
    }
   ],
   "source": [
    "#来看看一次性的代价\n",
    "%time _ =  labes.astype('category')"
   ]
  },
  {
   "cell_type": "markdown",
   "metadata": {},
   "source": [
    "### 分类方法"
   ]
  },
  {
   "cell_type": "markdown",
   "metadata": {},
   "source": [
    "**分类的操作上面已经讲过了，这里的分类方法是根据碰到的一些情况完成的不同的分类方式**"
   ]
  },
  {
   "cell_type": "markdown",
   "metadata": {},
   "source": [
    "**你已经定义好了分类的数据，但是你的大数据的中有些元素没有包含进去，这个时候使用set_catagroies**"
   ]
  },
  {
   "cell_type": "code",
   "execution_count": 30,
   "metadata": {},
   "outputs": [
    {
     "name": "stdout",
     "output_type": "stream",
     "text": [
      "0     A\n",
      "1     B\n",
      "2     C\n",
      "3     D\n",
      "4     A\n",
      "5     B\n",
      "6     C\n",
      "7     D\n",
      "8     A\n",
      "9     B\n",
      "10    C\n",
      "11    D\n",
      "dtype: category\n",
      "Categories (4, object): [A, B, C, D]\n"
     ]
    }
   ],
   "source": [
    "data = pd.Series(['A','B','C','D']*3,dtype='category')\n",
    "print(data)"
   ]
  },
  {
   "cell_type": "code",
   "execution_count": 31,
   "metadata": {},
   "outputs": [],
   "source": [
    "#但是实际上的元素有【A,B,C,D,E,F】\n",
    "ele = ['A','B','C','D','E','F']\n",
    "data_new = data.cat.set_categories(ele)"
   ]
  },
  {
   "cell_type": "code",
   "execution_count": 32,
   "metadata": {},
   "outputs": [
    {
     "name": "stdout",
     "output_type": "stream",
     "text": [
      "0     A\n",
      "1     B\n",
      "2     C\n",
      "3     D\n",
      "4     A\n",
      "5     B\n",
      "6     C\n",
      "7     D\n",
      "8     A\n",
      "9     B\n",
      "10    C\n",
      "11    D\n",
      "dtype: category\n",
      "Categories (6, object): [A, B, C, D, E, F]\n"
     ]
    }
   ],
   "source": [
    "print(data_new)"
   ]
  },
  {
   "cell_type": "markdown",
   "metadata": {},
   "source": [
    "**由于我的分类变量的意义是：减少内存和高性能的工具。有时候数据有些分类之后我们就不用了，这个时候我们通过remove_unuesd_categories()**"
   ]
  },
  {
   "cell_type": "code",
   "execution_count": 36,
   "metadata": {},
   "outputs": [
    {
     "name": "stdout",
     "output_type": "stream",
     "text": [
      "2     C\n",
      "3     D\n",
      "6     C\n",
      "7     D\n",
      "10    C\n",
      "11    D\n",
      "dtype: category\n",
      "Categories (6, object): [A, B, C, D, E, F]\n"
     ]
    }
   ],
   "source": [
    "remove = data_new[data_new.isin(['C','D'])]\n",
    "print(remove)"
   ]
  },
  {
   "cell_type": "code",
   "execution_count": 37,
   "metadata": {},
   "outputs": [
    {
     "name": "stdout",
     "output_type": "stream",
     "text": [
      "2     C\n",
      "3     D\n",
      "6     C\n",
      "7     D\n",
      "10    C\n",
      "11    D\n",
      "dtype: category\n",
      "Categories (2, object): [C, D]\n"
     ]
    }
   ],
   "source": [
    "print(remove.cat.remove_unused_categories())"
   ]
  },
  {
   "cell_type": "code",
   "execution_count": null,
   "metadata": {},
   "outputs": [],
   "source": []
  }
 ],
 "metadata": {
  "kernelspec": {
   "display_name": "Python 3",
   "language": "python",
   "name": "python3"
  },
  "language_info": {
   "codemirror_mode": {
    "name": "ipython",
    "version": 3
   },
   "file_extension": ".py",
   "mimetype": "text/x-python",
   "name": "python",
   "nbconvert_exporter": "python",
   "pygments_lexer": "ipython3",
   "version": "3.7.3"
  }
 },
 "nbformat": 4,
 "nbformat_minor": 2
}
